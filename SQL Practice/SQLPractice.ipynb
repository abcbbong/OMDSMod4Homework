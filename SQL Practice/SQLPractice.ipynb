{
 "cells": [
  {
   "cell_type": "markdown",
   "id": "07d184cd-3816-4864-9a7e-8e7501c9f771",
   "metadata": {},
   "source": [
    "# SQL Practice   \n",
    "1. [Create Sample Tables](#1.-Create-Sample-Tables)\n",
    "2. [Beginning Exercises](#2.-Beginning-Exercises)\n",
    "3. [Answers: Beginning Exercises](#3.-Answers:-Beginning-Exercises)\n",
    "4. [Intermediate Exercises](#4.-Intermediate-Exercises)\n",
    "5. [Answers: Intermediate Exercises](#5.-Answers:-Intermediate-Exercises)\n",
    "\n",
    "Adapted from: <a href=https://www.geeksforgeeks.org/sql/sql-exercises/>SQL Exercises : SQL Practice with Solution for Beginners and Experienced</a>, Last Accessed : 1 June, 2025."
   ]
  },
  {
   "cell_type": "code",
   "execution_count": null,
   "id": "f912f00a-e807-4da7-866d-9742f3e02229",
   "metadata": {},
   "outputs": [],
   "source": [
    "# To install SQLAlchemy module, uncomment \n",
    "# !pip install sqlalchemy"
   ]
  },
  {
   "cell_type": "code",
   "execution_count": 1,
   "id": "ee811b26-5a63-4380-b1ee-88118c41598b",
   "metadata": {},
   "outputs": [],
   "source": [
    "from sqlalchemy import create_engine, text\n",
    "import pandas as pd"
   ]
  },
  {
   "cell_type": "code",
   "execution_count": 3,
   "id": "e4cd991a-e300-4f62-a862-76b845d47197",
   "metadata": {},
   "outputs": [],
   "source": [
    "# Access Database\n",
    "engine = create_engine('sqlite:///sample_database.db')"
   ]
  },
  {
   "cell_type": "markdown",
   "id": "b3dffbe0-094f-4ad3-b9d1-530b58e5bd29",
   "metadata": {},
   "source": [
    "## 1. Create Sample Tables\n",
    "### Warning: \n",
    "* Execute the commands in this section only once.\n",
    "* After the tables have been created and data added, you will get an error if you try to execute them again.\n",
    "* The tables can only be created one time, and duplicate data can't be added to the tables. "
   ]
  },
  {
   "cell_type": "markdown",
   "id": "e29ae82a-f44f-4494-9302-fafbd7574b56",
   "metadata": {},
   "source": [
    "#### Create `Products` Table"
   ]
  },
  {
   "cell_type": "code",
   "execution_count": 5,
   "id": "f9cd2e1e-8b03-4741-9c8f-d767a03e8604",
   "metadata": {},
   "outputs": [],
   "source": [
    "create_products_table_query = \"\"\"\n",
    "CREATE TABLE Products (\n",
    "    product_id INT PRIMARY KEY,\n",
    "    product_name VARCHAR(100),\n",
    "    category VARCHAR(50),\n",
    "    unit_price DECIMAL(10, 2)\n",
    ")\n",
    "\"\"\"\n",
    "\n",
    "with engine.connect() as conn:\n",
    "    conn.execute(text(create_products_table_query))"
   ]
  },
  {
   "cell_type": "markdown",
   "id": "a603d95d-f186-4553-a3d8-7f63cf86fef3",
   "metadata": {},
   "source": [
    "#### Insert data into `Products` table"
   ]
  },
  {
   "cell_type": "code",
   "execution_count": 7,
   "id": "a634d073-f775-490c-a069-fbb8862f457e",
   "metadata": {},
   "outputs": [],
   "source": [
    "insert_products_query = \"\"\"INSERT INTO Products (product_id, product_name, category, unit_price) VALUES\n",
    "(101, 'Laptop', 'Electronics', 500.00),\n",
    "(102, 'Smartphone', 'Electronics', 300.00),\n",
    "(103, 'Headphones', 'Electronics', 30.00),\n",
    "(104, 'Keyboard', 'Electronics', 20.00),\n",
    "(105, 'Mouse', 'Electronics', 15.00),\n",
    "(201, 'Chair', 'Furniture', 200.00),\n",
    "(202, 'Desk', 'Furniture', 400.00)\n",
    "\"\"\"\n",
    "\n",
    "with engine.begin() as conn:  # .begin() ensures commit\n",
    "    conn.execute(text(insert_products_query))"
   ]
  },
  {
   "cell_type": "markdown",
   "id": "0fb438a2-9ecf-4a6f-af0e-89cdb77a323c",
   "metadata": {},
   "source": [
    "#### Create `Sales` table "
   ]
  },
  {
   "cell_type": "code",
   "execution_count": 9,
   "id": "6dd13a14-520d-4cd2-b932-11d4b3ccba81",
   "metadata": {},
   "outputs": [],
   "source": [
    "create_sales_table_query = \"\"\"\n",
    "CREATE TABLE Sales (\n",
    "    sale_id INT PRIMARY KEY,\n",
    "    product_id INT,\n",
    "    quantity_sold INT,\n",
    "    sale_date DATE,\n",
    "    total_price DECIMAL(10, 2),\n",
    "    FOREIGN KEY (product_id) REFERENCES Products(product_id)\n",
    ")\n",
    "\"\"\"\n",
    "\n",
    "with engine.connect() as conn:\n",
    "    conn.execute(text(create_sales_table_query))"
   ]
  },
  {
   "cell_type": "markdown",
   "id": "2321be2b-5d7c-4ef1-a9b4-a7e1a1c3e233",
   "metadata": {},
   "source": [
    "#### Insert sample data into `Sales` table"
   ]
  },
  {
   "cell_type": "code",
   "execution_count": 11,
   "id": "1155636c-bc60-40ee-b3c8-796f4addf82f",
   "metadata": {},
   "outputs": [],
   "source": [
    "insert_sales_query = \"\"\"INSERT INTO Sales (sale_id, product_id, quantity_sold, sale_date, total_price) VALUES\n",
    "(1, 101, 5, '2024-01-01', 2500.00),\n",
    "(2, 102, 3, '2024-01-02', 900.00),\n",
    "(3, 103, 2, '2024-01-02', 60.00),\n",
    "(4, 104, 4, '2024-01-03', 80.00),\n",
    "(5, 105, 6, '2024-01-03', 90.00),\n",
    "(6, 104, 2, '2024-01-04', 40.00),\n",
    "(7, 105, 3, '2024-01-04', 45.00)\n",
    "\"\"\"\n",
    "\n",
    "with engine.begin() as conn:  # .begin() ensures commit\n",
    "    conn.execute(text(insert_sales_query))"
   ]
  },
  {
   "cell_type": "markdown",
   "id": "c10908aa-383a-435f-af55-0fa9edff97a4",
   "metadata": {},
   "source": [
    "## 2. Beginning Exercises"
   ]
  },
  {
   "cell_type": "code",
   "execution_count": 15,
   "id": "35d48ffd-f9d2-4fc6-a634-c6370f309564",
   "metadata": {},
   "outputs": [],
   "source": [
    "def run_query(query):\n",
    "    \"\"\" \n",
    "    Function using pandas to run SQL queries.\n",
    "    \"\"\"\n",
    "    return pd.read_sql_query(query, engine)"
   ]
  },
  {
   "cell_type": "markdown",
   "id": "af4d2a09-8492-4ea7-b79e-9f476f27662b",
   "metadata": {},
   "source": [
    "#### **For example**: Retrieve all columns from the `Sales` table.\n",
    "* Note that the queries need to be in the form of string and need to be enclosed with quotation marks. "
   ]
  },
  {
   "cell_type": "code",
   "execution_count": null,
   "id": "56bf9add-68f0-40e3-940f-bcbbc5d167ef",
   "metadata": {},
   "outputs": [],
   "source": [
    "# Variable to hold query \n",
    "query = \"SELECT * FROM Sales\"\n",
    "\n",
    "# Run query on database \n",
    "run_query(query)"
   ]
  },
  {
   "cell_type": "markdown",
   "id": "ae656fde-585c-4f71-8020-55bcfd698dbf",
   "metadata": {},
   "source": [
    "#### 1. Retrieve the `product_name` and `unit_price` from the `Products` table.\n",
    "* Try to answer fill in the query yourself. Set the `query` variable to a query in the form of a string.\n",
    "* If you set stuck, all of the answers are in ***Section 3***. "
   ]
  },
  {
   "cell_type": "code",
   "execution_count": null,
   "id": "51613562-0805-482c-90dd-bc254ba2fa09",
   "metadata": {},
   "outputs": [],
   "source": [
    "query = \"\"\n",
    "\n",
    "run_query(query)"
   ]
  },
  {
   "cell_type": "markdown",
   "id": "3fc6a060-8479-4b33-81aa-81ae00254b1a",
   "metadata": {},
   "source": [
    "#### 2. Retrieve the `sale_id` and `sale_date` from the `Sales` table."
   ]
  },
  {
   "cell_type": "code",
   "execution_count": null,
   "id": "3591f572-785a-4f2e-bd32-2b72ce807a96",
   "metadata": {},
   "outputs": [],
   "source": [
    "query = \"\"\n",
    "\n",
    "run_query(query) "
   ]
  },
  {
   "cell_type": "markdown",
   "id": "7863576a-9e23-4e5a-a367-a4c4d86ea50b",
   "metadata": {},
   "source": [
    "#### 3. Filter the `Sales` table to show only sales with a `total_price` greater than $100."
   ]
  },
  {
   "cell_type": "code",
   "execution_count": null,
   "id": "ac9c1948-1578-4f1e-bbd5-c2539aa3fdc9",
   "metadata": {},
   "outputs": [],
   "source": [
    "query = \"\"\n",
    "\n",
    "run_query(query) "
   ]
  },
  {
   "cell_type": "markdown",
   "id": "8b0abcd0-2beb-4633-972f-6aa40328c7c0",
   "metadata": {},
   "source": [
    "#### 4. Filter the `Products` table to show only products in the **Electronics** category.\n",
    "* Because the values in the `category` column are strings, you'll have to nest strings in your query. To nest strings, you need to use one type of quotes for the outer quotes and another for the inner quotes. In other words, the outer quotes can be double quotes and your inner quotes can be single.\n",
    "* For instance, \"'Have a nice day,' he said.\" "
   ]
  },
  {
   "cell_type": "code",
   "execution_count": null,
   "id": "eef293a0-3d0c-4e14-a53d-97d06226fb7d",
   "metadata": {},
   "outputs": [],
   "source": [
    "query = \"\"\n",
    "\n",
    "run_query(query) "
   ]
  },
  {
   "cell_type": "markdown",
   "id": "4afb9d11-3b06-40e2-9304-53f7e3052083",
   "metadata": {},
   "source": [
    "#### 5. Retrieve the `sale_id` and `total_price` from the `Sales` table for sales made on January 3, 2024.\n",
    "* To make queries more readable, we often break queries into multi-lines. To create multi-line strings, we use triple quotes.\n",
    "* For instance, <br>\n",
    "*\"\"\"SELECT total_bill, tip, sex* <br>\n",
    "                   *FROM tips* <br>\n",
    "                   *WHERE time='Dinner'* <br>\n",
    "                \"\"\"\n",
    "* Because the dates are stored like strings, you'll need to nest your strings again for this query. Also be sure the date in your query is in the correct format.  "
   ]
  },
  {
   "cell_type": "code",
   "execution_count": null,
   "id": "6f060a66-0cfa-4eb4-b8f0-4ddd061bfa09",
   "metadata": {},
   "outputs": [],
   "source": [
    "query = \"\"\"\n",
    "\n",
    "\"\"\"\n",
    "\n",
    "run_query(query) "
   ]
  },
  {
   "cell_type": "markdown",
   "id": "f5122740-709a-48dd-bbc4-6fec3d6855fb",
   "metadata": {},
   "source": [
    "#### 6. Retrieve the `product_id` and `product_name` from the `Products` table for products with a `unit_price` greater than $100."
   ]
  },
  {
   "cell_type": "code",
   "execution_count": null,
   "id": "28f15339-5c18-41c1-ab7c-af942f4639b2",
   "metadata": {},
   "outputs": [],
   "source": [
    "query = \"\"\"\n",
    "\n",
    "\"\"\"\n",
    "\n",
    "run_query(query) "
   ]
  },
  {
   "cell_type": "markdown",
   "id": "371aed26-a33b-4b26-b699-4df873817f6f",
   "metadata": {},
   "source": [
    "#### 7. Calculate the total revenue generated from all sales in the `Sales` table.\n",
    "* By default, this query will return a column with an uninformative label. Instead, display the results with a column labeled `total_revenue`.\n",
    "* To so this, you may want to use the keyword `AS` in your query.    "
   ]
  },
  {
   "cell_type": "code",
   "execution_count": null,
   "id": "711883a6-9492-46cb-abdc-11f917350534",
   "metadata": {},
   "outputs": [],
   "source": [
    "query = \"\"\"\n",
    "\n",
    "\"\"\"\n",
    "\n",
    "run_query(query) "
   ]
  },
  {
   "cell_type": "markdown",
   "id": "49cc4c61-d5d2-425f-93e9-e973c9c6086c",
   "metadata": {},
   "source": [
    "#### 8. Calculate the average `unit_price` of products in the `Products` table.\n",
    "* Label the returned column `average_unit_price`."
   ]
  },
  {
   "cell_type": "code",
   "execution_count": null,
   "id": "c50d37cc-1daf-4451-8343-226211627e54",
   "metadata": {},
   "outputs": [],
   "source": [
    "query = \"\"\"\n",
    "\n",
    "\"\"\"\n",
    "\n",
    "run_query(query) "
   ]
  },
  {
   "cell_type": "markdown",
   "id": "1a94869e-51cd-4e15-9430-a1aa0a44ea59",
   "metadata": {},
   "source": [
    "#### 9. Calculate the total `quantity_sold` from the Sales table.\n",
    "* Give the column an appropriate label. "
   ]
  },
  {
   "cell_type": "code",
   "execution_count": null,
   "id": "ca1a26a3-48d7-4c3d-87e8-b0864e358a40",
   "metadata": {},
   "outputs": [],
   "source": [
    "query = \"\"\"\n",
    "\n",
    "\"\"\"\n",
    "\n",
    "run_query(query) "
   ]
  },
  {
   "cell_type": "markdown",
   "id": "6b1472e3-3fbc-4b7d-b80e-b0172d209886",
   "metadata": {},
   "source": [
    "#### 10. Count Sales Per Day from the `Sales` table\n",
    "* The returned table should include two columns: one with the date and one with the count.\n",
    "* You should give the count column an appropriate label, and the results should be sorted by the date. "
   ]
  },
  {
   "cell_type": "code",
   "execution_count": null,
   "id": "c6035fab-789e-4383-982d-d5ed0d319416",
   "metadata": {},
   "outputs": [],
   "source": [
    "query = \"\"\"\n",
    "\n",
    "\"\"\"\n",
    "\n",
    "run_query(query) "
   ]
  },
  {
   "cell_type": "markdown",
   "id": "9f88b33e-a547-4470-a3ef-c96e7f066d2a",
   "metadata": {},
   "source": [
    "#### 11. Retrieve `product_name` and `unit_price` from the `Products` table with the Highest Unit Price\n",
    "* There are many ways to return this result, but you may want to try using the `ORDER BY` and `LIMIT` commands. "
   ]
  },
  {
   "cell_type": "code",
   "execution_count": null,
   "id": "5c9cd4df-a5d7-41ba-9f2b-4e341173d2af",
   "metadata": {},
   "outputs": [],
   "source": [
    "query = \"\"\"\n",
    "\n",
    "\"\"\"\n",
    "\n",
    "run_query(query) "
   ]
  },
  {
   "cell_type": "markdown",
   "id": "2d44c9cd-d726-4131-a2af-107effc408cd",
   "metadata": {},
   "source": [
    "#### 12. Retrieve the `sale_id`, `product_id`, and `total_price` from the `Sales` table for sales with a `quantity_sold` greater than 4."
   ]
  },
  {
   "cell_type": "code",
   "execution_count": null,
   "id": "27cc5144-7681-4978-aa1b-76a943a0476c",
   "metadata": {},
   "outputs": [],
   "source": [
    "query = \"\"\"\n",
    "\n",
    "\"\"\"\n",
    "\n",
    "run_query(query) "
   ]
  },
  {
   "cell_type": "markdown",
   "id": "a753220c-5a51-48a6-9247-9546d0b95b3e",
   "metadata": {},
   "source": [
    "#### 13. Retrieve the `product_name` and `unit_price` from the `Products` table, ordering the results by `unit_price` in descending order."
   ]
  },
  {
   "cell_type": "code",
   "execution_count": null,
   "id": "d404682b-bab4-4239-ac1b-e6665c62179e",
   "metadata": {},
   "outputs": [],
   "source": [
    "query = \"\"\"\n",
    "\n",
    "\"\"\"\n",
    "\n",
    "run_query(query) "
   ]
  },
  {
   "cell_type": "markdown",
   "id": "8c33e86a-5d8e-410f-baa4-65196640835f",
   "metadata": {},
   "source": [
    "#### 14. Retrieve the `total_price` of all sales, rounding the values to two decimal places."
   ]
  },
  {
   "cell_type": "code",
   "execution_count": null,
   "id": "7ac47a36-ebf7-479c-80dc-0b9d9353f862",
   "metadata": {},
   "outputs": [],
   "source": [
    "query = \"\"\"\n",
    "\n",
    "\"\"\"\n",
    "\n",
    "run_query(query) "
   ]
  },
  {
   "cell_type": "markdown",
   "id": "86ea29be-f1eb-400e-9577-00c5fa0d3bd3",
   "metadata": {},
   "source": [
    "#### 15. Calculate the average `total_price` of sales in the `Sales` table.\n",
    "* Be sure to label the column with an appropriate name. "
   ]
  },
  {
   "cell_type": "code",
   "execution_count": null,
   "id": "d1aab8bd-52f6-41b5-afd3-5e067ebac860",
   "metadata": {},
   "outputs": [],
   "source": [
    "query = \"\"\"\n",
    "\n",
    "\"\"\"\n",
    "\n",
    "run_query(query) "
   ]
  },
  {
   "cell_type": "markdown",
   "id": "9fe39010-285c-4042-863e-3f6acd7eb42a",
   "metadata": {},
   "source": [
    "#### 16. Calculate the total revenue generated from sales of products in the **Electronics** category.\n",
    "* Be sure to give the column an appropriate label. "
   ]
  },
  {
   "cell_type": "code",
   "execution_count": null,
   "id": "92784577-247b-4350-9f21-5f92adfad597",
   "metadata": {},
   "outputs": [],
   "source": [
    "query = \"\"\"\n",
    "\n",
    "\"\"\"\n",
    "\n",
    "run_query(query) "
   ]
  },
  {
   "cell_type": "markdown",
   "id": "c074e8b6-86fd-41f1-92e5-80ec563d9bb8",
   "metadata": {},
   "source": [
    "#### 17. Retrieve the `product_name` and `unit_price` from the `Products` table, filtering the `unit_price` to show only values between \\\\$20 and \\\\$600."
   ]
  },
  {
   "cell_type": "code",
   "execution_count": null,
   "id": "c6c9d57c-fd1b-4e72-9284-826abc5b42b2",
   "metadata": {},
   "outputs": [],
   "source": [
    "query = \"\"\"\n",
    "\n",
    "\"\"\"\n",
    "\n",
    "run_query(query) "
   ]
  },
  {
   "cell_type": "markdown",
   "id": "d9944836-bcd1-4ea7-98dc-8eef86d1a24e",
   "metadata": {},
   "source": [
    "#### 18. Retrieve the `product_name` and `category` from the `Product`s table, ordering the results by `category` in ascending order."
   ]
  },
  {
   "cell_type": "code",
   "execution_count": null,
   "id": "576dd528-b689-4a08-9d34-4d39aa60e605",
   "metadata": {},
   "outputs": [],
   "source": [
    "query = \"\"\"\n",
    "\n",
    "\"\"\"\n",
    "\n",
    "run_query(query) "
   ]
  },
  {
   "cell_type": "markdown",
   "id": "1445dcf6-6838-40c2-881e-ed999063012b",
   "metadata": {},
   "source": [
    "## 3. Answers: Beginning Exercises"
   ]
  },
  {
   "cell_type": "markdown",
   "id": "10be95db-f5a6-4389-abef-5306b0cf4043",
   "metadata": {},
   "source": [
    "#### 1. Retrieve the `product_name` and `unit_price` from the `Products` table."
   ]
  },
  {
   "cell_type": "code",
   "execution_count": 17,
   "id": "0caa3336-b8ff-4a66-b8b7-af1843eff615",
   "metadata": {},
   "outputs": [
    {
     "data": {
      "text/html": [
       "<div>\n",
       "<style scoped>\n",
       "    .dataframe tbody tr th:only-of-type {\n",
       "        vertical-align: middle;\n",
       "    }\n",
       "\n",
       "    .dataframe tbody tr th {\n",
       "        vertical-align: top;\n",
       "    }\n",
       "\n",
       "    .dataframe thead th {\n",
       "        text-align: right;\n",
       "    }\n",
       "</style>\n",
       "<table border=\"1\" class=\"dataframe\">\n",
       "  <thead>\n",
       "    <tr style=\"text-align: right;\">\n",
       "      <th></th>\n",
       "      <th>product_name</th>\n",
       "      <th>unit_price</th>\n",
       "    </tr>\n",
       "  </thead>\n",
       "  <tbody>\n",
       "    <tr>\n",
       "      <th>0</th>\n",
       "      <td>Laptop</td>\n",
       "      <td>500</td>\n",
       "    </tr>\n",
       "    <tr>\n",
       "      <th>1</th>\n",
       "      <td>Smartphone</td>\n",
       "      <td>300</td>\n",
       "    </tr>\n",
       "    <tr>\n",
       "      <th>2</th>\n",
       "      <td>Headphones</td>\n",
       "      <td>30</td>\n",
       "    </tr>\n",
       "    <tr>\n",
       "      <th>3</th>\n",
       "      <td>Keyboard</td>\n",
       "      <td>20</td>\n",
       "    </tr>\n",
       "    <tr>\n",
       "      <th>4</th>\n",
       "      <td>Mouse</td>\n",
       "      <td>15</td>\n",
       "    </tr>\n",
       "    <tr>\n",
       "      <th>5</th>\n",
       "      <td>Chair</td>\n",
       "      <td>200</td>\n",
       "    </tr>\n",
       "    <tr>\n",
       "      <th>6</th>\n",
       "      <td>Desk</td>\n",
       "      <td>400</td>\n",
       "    </tr>\n",
       "  </tbody>\n",
       "</table>\n",
       "</div>"
      ],
      "text/plain": [
       "  product_name  unit_price\n",
       "0       Laptop         500\n",
       "1   Smartphone         300\n",
       "2   Headphones          30\n",
       "3     Keyboard          20\n",
       "4        Mouse          15\n",
       "5        Chair         200\n",
       "6         Desk         400"
      ]
     },
     "execution_count": 17,
     "metadata": {},
     "output_type": "execute_result"
    }
   ],
   "source": [
    "query = \"SELECT product_name, unit_price FROM Products\"\n",
    "\n",
    "run_query(query)"
   ]
  },
  {
   "cell_type": "markdown",
   "id": "0f05744a-b80d-4e88-b507-b1b4b449bd51",
   "metadata": {},
   "source": [
    "#### 2. Retrieve the `sale_id` and `sale_date` from the `Sales` table."
   ]
  },
  {
   "cell_type": "code",
   "execution_count": 19,
   "id": "69ba36c3-9eca-4d92-b777-7e6b47f25f37",
   "metadata": {},
   "outputs": [
    {
     "data": {
      "text/html": [
       "<div>\n",
       "<style scoped>\n",
       "    .dataframe tbody tr th:only-of-type {\n",
       "        vertical-align: middle;\n",
       "    }\n",
       "\n",
       "    .dataframe tbody tr th {\n",
       "        vertical-align: top;\n",
       "    }\n",
       "\n",
       "    .dataframe thead th {\n",
       "        text-align: right;\n",
       "    }\n",
       "</style>\n",
       "<table border=\"1\" class=\"dataframe\">\n",
       "  <thead>\n",
       "    <tr style=\"text-align: right;\">\n",
       "      <th></th>\n",
       "      <th>sale_id</th>\n",
       "      <th>sale_date</th>\n",
       "    </tr>\n",
       "  </thead>\n",
       "  <tbody>\n",
       "    <tr>\n",
       "      <th>0</th>\n",
       "      <td>1</td>\n",
       "      <td>2024-01-01</td>\n",
       "    </tr>\n",
       "    <tr>\n",
       "      <th>1</th>\n",
       "      <td>2</td>\n",
       "      <td>2024-01-02</td>\n",
       "    </tr>\n",
       "    <tr>\n",
       "      <th>2</th>\n",
       "      <td>3</td>\n",
       "      <td>2024-01-02</td>\n",
       "    </tr>\n",
       "    <tr>\n",
       "      <th>3</th>\n",
       "      <td>4</td>\n",
       "      <td>2024-01-03</td>\n",
       "    </tr>\n",
       "    <tr>\n",
       "      <th>4</th>\n",
       "      <td>5</td>\n",
       "      <td>2024-01-03</td>\n",
       "    </tr>\n",
       "    <tr>\n",
       "      <th>5</th>\n",
       "      <td>6</td>\n",
       "      <td>2024-01-04</td>\n",
       "    </tr>\n",
       "    <tr>\n",
       "      <th>6</th>\n",
       "      <td>7</td>\n",
       "      <td>2024-01-04</td>\n",
       "    </tr>\n",
       "  </tbody>\n",
       "</table>\n",
       "</div>"
      ],
      "text/plain": [
       "   sale_id   sale_date\n",
       "0        1  2024-01-01\n",
       "1        2  2024-01-02\n",
       "2        3  2024-01-02\n",
       "3        4  2024-01-03\n",
       "4        5  2024-01-03\n",
       "5        6  2024-01-04\n",
       "6        7  2024-01-04"
      ]
     },
     "execution_count": 19,
     "metadata": {},
     "output_type": "execute_result"
    }
   ],
   "source": [
    "query = \"SELECT sale_id, sale_date FROM Sales\"\n",
    "\n",
    "run_query(query) "
   ]
  },
  {
   "cell_type": "markdown",
   "id": "de9f39fe-8d8c-4707-98a9-a5576ca58e67",
   "metadata": {},
   "source": [
    "#### 3. Filter the `Sales` table to show only sales with a `total_price` greater than $100."
   ]
  },
  {
   "cell_type": "code",
   "execution_count": 21,
   "id": "15bb2967-e12b-480b-a2de-bb37dd6cb979",
   "metadata": {},
   "outputs": [
    {
     "data": {
      "text/html": [
       "<div>\n",
       "<style scoped>\n",
       "    .dataframe tbody tr th:only-of-type {\n",
       "        vertical-align: middle;\n",
       "    }\n",
       "\n",
       "    .dataframe tbody tr th {\n",
       "        vertical-align: top;\n",
       "    }\n",
       "\n",
       "    .dataframe thead th {\n",
       "        text-align: right;\n",
       "    }\n",
       "</style>\n",
       "<table border=\"1\" class=\"dataframe\">\n",
       "  <thead>\n",
       "    <tr style=\"text-align: right;\">\n",
       "      <th></th>\n",
       "      <th>sale_id</th>\n",
       "      <th>product_id</th>\n",
       "      <th>quantity_sold</th>\n",
       "      <th>sale_date</th>\n",
       "      <th>total_price</th>\n",
       "    </tr>\n",
       "  </thead>\n",
       "  <tbody>\n",
       "    <tr>\n",
       "      <th>0</th>\n",
       "      <td>1</td>\n",
       "      <td>101</td>\n",
       "      <td>5</td>\n",
       "      <td>2024-01-01</td>\n",
       "      <td>2500</td>\n",
       "    </tr>\n",
       "    <tr>\n",
       "      <th>1</th>\n",
       "      <td>2</td>\n",
       "      <td>102</td>\n",
       "      <td>3</td>\n",
       "      <td>2024-01-02</td>\n",
       "      <td>900</td>\n",
       "    </tr>\n",
       "  </tbody>\n",
       "</table>\n",
       "</div>"
      ],
      "text/plain": [
       "   sale_id  product_id  quantity_sold   sale_date  total_price\n",
       "0        1         101              5  2024-01-01         2500\n",
       "1        2         102              3  2024-01-02          900"
      ]
     },
     "execution_count": 21,
     "metadata": {},
     "output_type": "execute_result"
    }
   ],
   "source": [
    "query = \"SELECT * FROM Sales WHERE total_price > 100\"\n",
    "\n",
    "run_query(query) "
   ]
  },
  {
   "cell_type": "markdown",
   "id": "7abb42b7-4658-4e59-b532-364f2f4b7fb1",
   "metadata": {},
   "source": [
    "#### 4. Filter the `Products` table to show only products in the **Electronics** category."
   ]
  },
  {
   "cell_type": "code",
   "execution_count": 23,
   "id": "c9197ce2-ea93-413e-ae3e-058107c15eae",
   "metadata": {},
   "outputs": [
    {
     "data": {
      "text/html": [
       "<div>\n",
       "<style scoped>\n",
       "    .dataframe tbody tr th:only-of-type {\n",
       "        vertical-align: middle;\n",
       "    }\n",
       "\n",
       "    .dataframe tbody tr th {\n",
       "        vertical-align: top;\n",
       "    }\n",
       "\n",
       "    .dataframe thead th {\n",
       "        text-align: right;\n",
       "    }\n",
       "</style>\n",
       "<table border=\"1\" class=\"dataframe\">\n",
       "  <thead>\n",
       "    <tr style=\"text-align: right;\">\n",
       "      <th></th>\n",
       "      <th>product_id</th>\n",
       "      <th>product_name</th>\n",
       "      <th>category</th>\n",
       "      <th>unit_price</th>\n",
       "    </tr>\n",
       "  </thead>\n",
       "  <tbody>\n",
       "    <tr>\n",
       "      <th>0</th>\n",
       "      <td>101</td>\n",
       "      <td>Laptop</td>\n",
       "      <td>Electronics</td>\n",
       "      <td>500</td>\n",
       "    </tr>\n",
       "    <tr>\n",
       "      <th>1</th>\n",
       "      <td>102</td>\n",
       "      <td>Smartphone</td>\n",
       "      <td>Electronics</td>\n",
       "      <td>300</td>\n",
       "    </tr>\n",
       "    <tr>\n",
       "      <th>2</th>\n",
       "      <td>103</td>\n",
       "      <td>Headphones</td>\n",
       "      <td>Electronics</td>\n",
       "      <td>30</td>\n",
       "    </tr>\n",
       "    <tr>\n",
       "      <th>3</th>\n",
       "      <td>104</td>\n",
       "      <td>Keyboard</td>\n",
       "      <td>Electronics</td>\n",
       "      <td>20</td>\n",
       "    </tr>\n",
       "    <tr>\n",
       "      <th>4</th>\n",
       "      <td>105</td>\n",
       "      <td>Mouse</td>\n",
       "      <td>Electronics</td>\n",
       "      <td>15</td>\n",
       "    </tr>\n",
       "  </tbody>\n",
       "</table>\n",
       "</div>"
      ],
      "text/plain": [
       "   product_id product_name     category  unit_price\n",
       "0         101       Laptop  Electronics         500\n",
       "1         102   Smartphone  Electronics         300\n",
       "2         103   Headphones  Electronics          30\n",
       "3         104     Keyboard  Electronics          20\n",
       "4         105        Mouse  Electronics          15"
      ]
     },
     "execution_count": 23,
     "metadata": {},
     "output_type": "execute_result"
    }
   ],
   "source": [
    "query = \"SELECT * FROM Products WHERE category = 'Electronics'\"\n",
    "\n",
    "run_query(query) "
   ]
  },
  {
   "cell_type": "markdown",
   "id": "f0016887-b68b-4537-8c47-b2e709410f0a",
   "metadata": {},
   "source": [
    "#### 5. Retrieve the `sale_id` and `total_price` from the `Sales` table for sales made on January 3, 2024."
   ]
  },
  {
   "cell_type": "code",
   "execution_count": 25,
   "id": "de05c0e4-c71b-442b-a00b-a783652d49a0",
   "metadata": {},
   "outputs": [
    {
     "data": {
      "text/html": [
       "<div>\n",
       "<style scoped>\n",
       "    .dataframe tbody tr th:only-of-type {\n",
       "        vertical-align: middle;\n",
       "    }\n",
       "\n",
       "    .dataframe tbody tr th {\n",
       "        vertical-align: top;\n",
       "    }\n",
       "\n",
       "    .dataframe thead th {\n",
       "        text-align: right;\n",
       "    }\n",
       "</style>\n",
       "<table border=\"1\" class=\"dataframe\">\n",
       "  <thead>\n",
       "    <tr style=\"text-align: right;\">\n",
       "      <th></th>\n",
       "      <th>sale_id</th>\n",
       "      <th>total_price</th>\n",
       "    </tr>\n",
       "  </thead>\n",
       "  <tbody>\n",
       "    <tr>\n",
       "      <th>0</th>\n",
       "      <td>4</td>\n",
       "      <td>80</td>\n",
       "    </tr>\n",
       "    <tr>\n",
       "      <th>1</th>\n",
       "      <td>5</td>\n",
       "      <td>90</td>\n",
       "    </tr>\n",
       "  </tbody>\n",
       "</table>\n",
       "</div>"
      ],
      "text/plain": [
       "   sale_id  total_price\n",
       "0        4           80\n",
       "1        5           90"
      ]
     },
     "execution_count": 25,
     "metadata": {},
     "output_type": "execute_result"
    }
   ],
   "source": [
    "query = \"\"\"SELECT sale_id, total_price \n",
    "FROM Sales \n",
    "WHERE sale_date = '2024-01-03'\n",
    "\"\"\"\n",
    "\n",
    "run_query(query) "
   ]
  },
  {
   "cell_type": "markdown",
   "id": "02d5288e-d62f-47bf-a6a3-bea757a8b099",
   "metadata": {},
   "source": [
    "#### 6. Retrieve the `product_id` and `product_name` from the `Products` table for products with a `unit_price` greater than $100."
   ]
  },
  {
   "cell_type": "code",
   "execution_count": 27,
   "id": "cd102c7b-1d63-433d-9b68-9f7424c695e4",
   "metadata": {},
   "outputs": [
    {
     "data": {
      "text/html": [
       "<div>\n",
       "<style scoped>\n",
       "    .dataframe tbody tr th:only-of-type {\n",
       "        vertical-align: middle;\n",
       "    }\n",
       "\n",
       "    .dataframe tbody tr th {\n",
       "        vertical-align: top;\n",
       "    }\n",
       "\n",
       "    .dataframe thead th {\n",
       "        text-align: right;\n",
       "    }\n",
       "</style>\n",
       "<table border=\"1\" class=\"dataframe\">\n",
       "  <thead>\n",
       "    <tr style=\"text-align: right;\">\n",
       "      <th></th>\n",
       "      <th>product_id</th>\n",
       "      <th>product_name</th>\n",
       "    </tr>\n",
       "  </thead>\n",
       "  <tbody>\n",
       "    <tr>\n",
       "      <th>0</th>\n",
       "      <td>101</td>\n",
       "      <td>Laptop</td>\n",
       "    </tr>\n",
       "    <tr>\n",
       "      <th>1</th>\n",
       "      <td>102</td>\n",
       "      <td>Smartphone</td>\n",
       "    </tr>\n",
       "    <tr>\n",
       "      <th>2</th>\n",
       "      <td>201</td>\n",
       "      <td>Chair</td>\n",
       "    </tr>\n",
       "    <tr>\n",
       "      <th>3</th>\n",
       "      <td>202</td>\n",
       "      <td>Desk</td>\n",
       "    </tr>\n",
       "  </tbody>\n",
       "</table>\n",
       "</div>"
      ],
      "text/plain": [
       "   product_id product_name\n",
       "0         101       Laptop\n",
       "1         102   Smartphone\n",
       "2         201        Chair\n",
       "3         202         Desk"
      ]
     },
     "execution_count": 27,
     "metadata": {},
     "output_type": "execute_result"
    }
   ],
   "source": [
    "query = \"\"\"SELECT product_id, product_name \n",
    "FROM Products \n",
    "WHERE unit_price > 100\n",
    "\"\"\"\n",
    "\n",
    "run_query(query) "
   ]
  },
  {
   "cell_type": "markdown",
   "id": "872ca263-0b3b-41bd-b1f6-49d60d4f03c5",
   "metadata": {},
   "source": [
    "#### 7. Calculate the total revenue generated from all sales in the `Sales` table."
   ]
  },
  {
   "cell_type": "code",
   "execution_count": 29,
   "id": "9955d76c-3ed9-4f60-b5f9-e75415fa4388",
   "metadata": {},
   "outputs": [
    {
     "data": {
      "text/html": [
       "<div>\n",
       "<style scoped>\n",
       "    .dataframe tbody tr th:only-of-type {\n",
       "        vertical-align: middle;\n",
       "    }\n",
       "\n",
       "    .dataframe tbody tr th {\n",
       "        vertical-align: top;\n",
       "    }\n",
       "\n",
       "    .dataframe thead th {\n",
       "        text-align: right;\n",
       "    }\n",
       "</style>\n",
       "<table border=\"1\" class=\"dataframe\">\n",
       "  <thead>\n",
       "    <tr style=\"text-align: right;\">\n",
       "      <th></th>\n",
       "      <th>total_revenue</th>\n",
       "    </tr>\n",
       "  </thead>\n",
       "  <tbody>\n",
       "    <tr>\n",
       "      <th>0</th>\n",
       "      <td>3715</td>\n",
       "    </tr>\n",
       "  </tbody>\n",
       "</table>\n",
       "</div>"
      ],
      "text/plain": [
       "   total_revenue\n",
       "0           3715"
      ]
     },
     "execution_count": 29,
     "metadata": {},
     "output_type": "execute_result"
    }
   ],
   "source": [
    "query = \"\"\"SELECT SUM(total_price) AS total_revenue \n",
    "FROM Sales\n",
    "\"\"\"\n",
    "\n",
    "run_query(query) "
   ]
  },
  {
   "cell_type": "markdown",
   "id": "936811bf-c48e-437f-8f38-9ceeb3eb80a2",
   "metadata": {},
   "source": [
    "#### 8. Calculate the average `unit_price` of products in the `Products` table."
   ]
  },
  {
   "cell_type": "code",
   "execution_count": 31,
   "id": "b1ebaf37-4abe-4a76-8baf-c5714f6b46da",
   "metadata": {},
   "outputs": [
    {
     "data": {
      "text/html": [
       "<div>\n",
       "<style scoped>\n",
       "    .dataframe tbody tr th:only-of-type {\n",
       "        vertical-align: middle;\n",
       "    }\n",
       "\n",
       "    .dataframe tbody tr th {\n",
       "        vertical-align: top;\n",
       "    }\n",
       "\n",
       "    .dataframe thead th {\n",
       "        text-align: right;\n",
       "    }\n",
       "</style>\n",
       "<table border=\"1\" class=\"dataframe\">\n",
       "  <thead>\n",
       "    <tr style=\"text-align: right;\">\n",
       "      <th></th>\n",
       "      <th>average_unit_price</th>\n",
       "    </tr>\n",
       "  </thead>\n",
       "  <tbody>\n",
       "    <tr>\n",
       "      <th>0</th>\n",
       "      <td>209.285714</td>\n",
       "    </tr>\n",
       "  </tbody>\n",
       "</table>\n",
       "</div>"
      ],
      "text/plain": [
       "   average_unit_price\n",
       "0          209.285714"
      ]
     },
     "execution_count": 31,
     "metadata": {},
     "output_type": "execute_result"
    }
   ],
   "source": [
    "query = \"\"\"SELECT AVG(unit_price) AS average_unit_price \n",
    "FROM Products\n",
    "\"\"\"\n",
    "\n",
    "run_query(query) "
   ]
  },
  {
   "cell_type": "markdown",
   "id": "b8f5d0b0-d8be-43de-8e63-70073f43f78c",
   "metadata": {},
   "source": [
    "#### 9. Calculate the total `quantity_sold` from the Sales table."
   ]
  },
  {
   "cell_type": "code",
   "execution_count": 33,
   "id": "0e2e7308-9a98-4571-996c-7c25ded66725",
   "metadata": {},
   "outputs": [
    {
     "data": {
      "text/html": [
       "<div>\n",
       "<style scoped>\n",
       "    .dataframe tbody tr th:only-of-type {\n",
       "        vertical-align: middle;\n",
       "    }\n",
       "\n",
       "    .dataframe tbody tr th {\n",
       "        vertical-align: top;\n",
       "    }\n",
       "\n",
       "    .dataframe thead th {\n",
       "        text-align: right;\n",
       "    }\n",
       "</style>\n",
       "<table border=\"1\" class=\"dataframe\">\n",
       "  <thead>\n",
       "    <tr style=\"text-align: right;\">\n",
       "      <th></th>\n",
       "      <th>total_quantity_sold</th>\n",
       "    </tr>\n",
       "  </thead>\n",
       "  <tbody>\n",
       "    <tr>\n",
       "      <th>0</th>\n",
       "      <td>25</td>\n",
       "    </tr>\n",
       "  </tbody>\n",
       "</table>\n",
       "</div>"
      ],
      "text/plain": [
       "   total_quantity_sold\n",
       "0                   25"
      ]
     },
     "execution_count": 33,
     "metadata": {},
     "output_type": "execute_result"
    }
   ],
   "source": [
    "query = \"\"\"SELECT SUM(quantity_sold) AS total_quantity_sold \n",
    "FROM Sales\n",
    "\"\"\"\n",
    "\n",
    "run_query(query) "
   ]
  },
  {
   "cell_type": "markdown",
   "id": "ec321f68-5469-40ce-9191-88fb61fd2a24",
   "metadata": {},
   "source": [
    "#### 10. Count Sales Per Day from the `Sales` table"
   ]
  },
  {
   "cell_type": "code",
   "execution_count": 35,
   "id": "2175b327-8a6e-4335-a0f3-f65f22a0ace1",
   "metadata": {},
   "outputs": [
    {
     "data": {
      "text/html": [
       "<div>\n",
       "<style scoped>\n",
       "    .dataframe tbody tr th:only-of-type {\n",
       "        vertical-align: middle;\n",
       "    }\n",
       "\n",
       "    .dataframe tbody tr th {\n",
       "        vertical-align: top;\n",
       "    }\n",
       "\n",
       "    .dataframe thead th {\n",
       "        text-align: right;\n",
       "    }\n",
       "</style>\n",
       "<table border=\"1\" class=\"dataframe\">\n",
       "  <thead>\n",
       "    <tr style=\"text-align: right;\">\n",
       "      <th></th>\n",
       "      <th>sale_date</th>\n",
       "      <th>sales_count</th>\n",
       "    </tr>\n",
       "  </thead>\n",
       "  <tbody>\n",
       "    <tr>\n",
       "      <th>0</th>\n",
       "      <td>2024-01-01</td>\n",
       "      <td>1</td>\n",
       "    </tr>\n",
       "    <tr>\n",
       "      <th>1</th>\n",
       "      <td>2024-01-02</td>\n",
       "      <td>2</td>\n",
       "    </tr>\n",
       "    <tr>\n",
       "      <th>2</th>\n",
       "      <td>2024-01-03</td>\n",
       "      <td>2</td>\n",
       "    </tr>\n",
       "    <tr>\n",
       "      <th>3</th>\n",
       "      <td>2024-01-04</td>\n",
       "      <td>2</td>\n",
       "    </tr>\n",
       "  </tbody>\n",
       "</table>\n",
       "</div>"
      ],
      "text/plain": [
       "    sale_date  sales_count\n",
       "0  2024-01-01            1\n",
       "1  2024-01-02            2\n",
       "2  2024-01-03            2\n",
       "3  2024-01-04            2"
      ]
     },
     "execution_count": 35,
     "metadata": {},
     "output_type": "execute_result"
    }
   ],
   "source": [
    "query = \"\"\"SELECT sale_date, COUNT(*) AS sales_count \n",
    "FROM Sales \n",
    "GROUP BY sale_date \n",
    "ORDER BY sale_date\n",
    "\"\"\"\n",
    "\n",
    "run_query(query) "
   ]
  },
  {
   "cell_type": "markdown",
   "id": "b9b5e579-7c05-4c9c-a020-8373c6a38e15",
   "metadata": {},
   "source": [
    "#### 11. Retrieve `product_name` and `unit_price` from the `Products` table with the Highest Unit Price"
   ]
  },
  {
   "cell_type": "code",
   "execution_count": 37,
   "id": "7aa62e75-aaa9-46cb-bc31-a460d79acd96",
   "metadata": {},
   "outputs": [
    {
     "data": {
      "text/html": [
       "<div>\n",
       "<style scoped>\n",
       "    .dataframe tbody tr th:only-of-type {\n",
       "        vertical-align: middle;\n",
       "    }\n",
       "\n",
       "    .dataframe tbody tr th {\n",
       "        vertical-align: top;\n",
       "    }\n",
       "\n",
       "    .dataframe thead th {\n",
       "        text-align: right;\n",
       "    }\n",
       "</style>\n",
       "<table border=\"1\" class=\"dataframe\">\n",
       "  <thead>\n",
       "    <tr style=\"text-align: right;\">\n",
       "      <th></th>\n",
       "      <th>product_name</th>\n",
       "      <th>unit_price</th>\n",
       "    </tr>\n",
       "  </thead>\n",
       "  <tbody>\n",
       "    <tr>\n",
       "      <th>0</th>\n",
       "      <td>Laptop</td>\n",
       "      <td>500</td>\n",
       "    </tr>\n",
       "  </tbody>\n",
       "</table>\n",
       "</div>"
      ],
      "text/plain": [
       "  product_name  unit_price\n",
       "0       Laptop         500"
      ]
     },
     "execution_count": 37,
     "metadata": {},
     "output_type": "execute_result"
    }
   ],
   "source": [
    "query = \"\"\"SELECT product_name, unit_price \n",
    "FROM Products \n",
    "ORDER BY unit_price DESC \n",
    "LIMIT 1\n",
    "\"\"\"\n",
    "\n",
    "run_query(query) "
   ]
  },
  {
   "cell_type": "markdown",
   "id": "afc3f9d2-624e-4e5d-bff5-02c1b379b03e",
   "metadata": {},
   "source": [
    "#### 12. Retrieve the `sale_id`, `product_id`, and `total_price` from the `Sales` table for sales with a `quantity_sold` greater than 4."
   ]
  },
  {
   "cell_type": "code",
   "execution_count": 39,
   "id": "738c7f25-f00d-4641-b677-b3e585659955",
   "metadata": {},
   "outputs": [
    {
     "data": {
      "text/html": [
       "<div>\n",
       "<style scoped>\n",
       "    .dataframe tbody tr th:only-of-type {\n",
       "        vertical-align: middle;\n",
       "    }\n",
       "\n",
       "    .dataframe tbody tr th {\n",
       "        vertical-align: top;\n",
       "    }\n",
       "\n",
       "    .dataframe thead th {\n",
       "        text-align: right;\n",
       "    }\n",
       "</style>\n",
       "<table border=\"1\" class=\"dataframe\">\n",
       "  <thead>\n",
       "    <tr style=\"text-align: right;\">\n",
       "      <th></th>\n",
       "      <th>sale_id</th>\n",
       "      <th>product_id</th>\n",
       "      <th>total_price</th>\n",
       "    </tr>\n",
       "  </thead>\n",
       "  <tbody>\n",
       "    <tr>\n",
       "      <th>0</th>\n",
       "      <td>1</td>\n",
       "      <td>101</td>\n",
       "      <td>2500</td>\n",
       "    </tr>\n",
       "    <tr>\n",
       "      <th>1</th>\n",
       "      <td>5</td>\n",
       "      <td>105</td>\n",
       "      <td>90</td>\n",
       "    </tr>\n",
       "  </tbody>\n",
       "</table>\n",
       "</div>"
      ],
      "text/plain": [
       "   sale_id  product_id  total_price\n",
       "0        1         101         2500\n",
       "1        5         105           90"
      ]
     },
     "execution_count": 39,
     "metadata": {},
     "output_type": "execute_result"
    }
   ],
   "source": [
    "query = \"\"\"SELECT sale_id, product_id, total_price \n",
    "FROM Sales \n",
    "WHERE quantity_sold > 4\n",
    "\"\"\"\n",
    "\n",
    "run_query(query) "
   ]
  },
  {
   "cell_type": "markdown",
   "id": "3a713291-ace2-4a8c-96d3-0761a2c6a9db",
   "metadata": {},
   "source": [
    "#### 13. Retrieve the `product_name` and `unit_price` from the `Products` table, ordering the results by `unit_price` in descending order."
   ]
  },
  {
   "cell_type": "code",
   "execution_count": 41,
   "id": "e09dff53-ceae-420a-afaf-3697b8264084",
   "metadata": {},
   "outputs": [
    {
     "data": {
      "text/html": [
       "<div>\n",
       "<style scoped>\n",
       "    .dataframe tbody tr th:only-of-type {\n",
       "        vertical-align: middle;\n",
       "    }\n",
       "\n",
       "    .dataframe tbody tr th {\n",
       "        vertical-align: top;\n",
       "    }\n",
       "\n",
       "    .dataframe thead th {\n",
       "        text-align: right;\n",
       "    }\n",
       "</style>\n",
       "<table border=\"1\" class=\"dataframe\">\n",
       "  <thead>\n",
       "    <tr style=\"text-align: right;\">\n",
       "      <th></th>\n",
       "      <th>product_name</th>\n",
       "      <th>unit_price</th>\n",
       "    </tr>\n",
       "  </thead>\n",
       "  <tbody>\n",
       "    <tr>\n",
       "      <th>0</th>\n",
       "      <td>Laptop</td>\n",
       "      <td>500</td>\n",
       "    </tr>\n",
       "    <tr>\n",
       "      <th>1</th>\n",
       "      <td>Desk</td>\n",
       "      <td>400</td>\n",
       "    </tr>\n",
       "    <tr>\n",
       "      <th>2</th>\n",
       "      <td>Smartphone</td>\n",
       "      <td>300</td>\n",
       "    </tr>\n",
       "    <tr>\n",
       "      <th>3</th>\n",
       "      <td>Chair</td>\n",
       "      <td>200</td>\n",
       "    </tr>\n",
       "    <tr>\n",
       "      <th>4</th>\n",
       "      <td>Headphones</td>\n",
       "      <td>30</td>\n",
       "    </tr>\n",
       "    <tr>\n",
       "      <th>5</th>\n",
       "      <td>Keyboard</td>\n",
       "      <td>20</td>\n",
       "    </tr>\n",
       "    <tr>\n",
       "      <th>6</th>\n",
       "      <td>Mouse</td>\n",
       "      <td>15</td>\n",
       "    </tr>\n",
       "  </tbody>\n",
       "</table>\n",
       "</div>"
      ],
      "text/plain": [
       "  product_name  unit_price\n",
       "0       Laptop         500\n",
       "1         Desk         400\n",
       "2   Smartphone         300\n",
       "3        Chair         200\n",
       "4   Headphones          30\n",
       "5     Keyboard          20\n",
       "6        Mouse          15"
      ]
     },
     "execution_count": 41,
     "metadata": {},
     "output_type": "execute_result"
    }
   ],
   "source": [
    "query = \"\"\"SELECT product_name, unit_price \n",
    "FROM Products \n",
    "ORDER BY unit_price DESC\n",
    "\"\"\"\n",
    "\n",
    "run_query(query) "
   ]
  },
  {
   "cell_type": "markdown",
   "id": "0b73943b-d9a2-4f48-a0d0-6614232e4322",
   "metadata": {},
   "source": [
    "#### 14. Retrieve the `total_price` of all sales, rounding the values to two decimal places."
   ]
  },
  {
   "cell_type": "code",
   "execution_count": 43,
   "id": "c1767efd-3908-48cb-a08c-7549fa10a102",
   "metadata": {},
   "outputs": [
    {
     "data": {
      "text/html": [
       "<div>\n",
       "<style scoped>\n",
       "    .dataframe tbody tr th:only-of-type {\n",
       "        vertical-align: middle;\n",
       "    }\n",
       "\n",
       "    .dataframe tbody tr th {\n",
       "        vertical-align: top;\n",
       "    }\n",
       "\n",
       "    .dataframe thead th {\n",
       "        text-align: right;\n",
       "    }\n",
       "</style>\n",
       "<table border=\"1\" class=\"dataframe\">\n",
       "  <thead>\n",
       "    <tr style=\"text-align: right;\">\n",
       "      <th></th>\n",
       "      <th>total_sales</th>\n",
       "    </tr>\n",
       "  </thead>\n",
       "  <tbody>\n",
       "    <tr>\n",
       "      <th>0</th>\n",
       "      <td>3715.0</td>\n",
       "    </tr>\n",
       "  </tbody>\n",
       "</table>\n",
       "</div>"
      ],
      "text/plain": [
       "   total_sales\n",
       "0       3715.0"
      ]
     },
     "execution_count": 43,
     "metadata": {},
     "output_type": "execute_result"
    }
   ],
   "source": [
    "query = \"\"\"SELECT ROUND(SUM(total_price), 2) AS total_sales \n",
    "FROM Sales\n",
    "\"\"\"\n",
    "\n",
    "run_query(query) "
   ]
  },
  {
   "cell_type": "markdown",
   "id": "ef92b0ce-972e-40da-89bc-d78b2fe80c52",
   "metadata": {},
   "source": [
    "#### 15. Calculate the average `total_price` of sales in the `Sales` table."
   ]
  },
  {
   "cell_type": "code",
   "execution_count": 45,
   "id": "8df3dbbc-3406-4469-bb29-2d3e1d40b61b",
   "metadata": {},
   "outputs": [
    {
     "data": {
      "text/html": [
       "<div>\n",
       "<style scoped>\n",
       "    .dataframe tbody tr th:only-of-type {\n",
       "        vertical-align: middle;\n",
       "    }\n",
       "\n",
       "    .dataframe tbody tr th {\n",
       "        vertical-align: top;\n",
       "    }\n",
       "\n",
       "    .dataframe thead th {\n",
       "        text-align: right;\n",
       "    }\n",
       "</style>\n",
       "<table border=\"1\" class=\"dataframe\">\n",
       "  <thead>\n",
       "    <tr style=\"text-align: right;\">\n",
       "      <th></th>\n",
       "      <th>average_total_price</th>\n",
       "    </tr>\n",
       "  </thead>\n",
       "  <tbody>\n",
       "    <tr>\n",
       "      <th>0</th>\n",
       "      <td>530.714286</td>\n",
       "    </tr>\n",
       "  </tbody>\n",
       "</table>\n",
       "</div>"
      ],
      "text/plain": [
       "   average_total_price\n",
       "0           530.714286"
      ]
     },
     "execution_count": 45,
     "metadata": {},
     "output_type": "execute_result"
    }
   ],
   "source": [
    "query = \"\"\"SELECT AVG(total_price) AS average_total_price \n",
    "FROM Sales\n",
    "\"\"\"\n",
    "\n",
    "run_query(query) "
   ]
  },
  {
   "cell_type": "markdown",
   "id": "15363890-79e1-44b9-abc1-9195a323cbb1",
   "metadata": {},
   "source": [
    "#### 16. Calculate the total revenue generated from sales of products in the 'Electronics' category."
   ]
  },
  {
   "cell_type": "code",
   "execution_count": 47,
   "id": "ef232775-a17a-4ec0-b7f9-da67a8adc518",
   "metadata": {},
   "outputs": [
    {
     "data": {
      "text/html": [
       "<div>\n",
       "<style scoped>\n",
       "    .dataframe tbody tr th:only-of-type {\n",
       "        vertical-align: middle;\n",
       "    }\n",
       "\n",
       "    .dataframe tbody tr th {\n",
       "        vertical-align: top;\n",
       "    }\n",
       "\n",
       "    .dataframe thead th {\n",
       "        text-align: right;\n",
       "    }\n",
       "</style>\n",
       "<table border=\"1\" class=\"dataframe\">\n",
       "  <thead>\n",
       "    <tr style=\"text-align: right;\">\n",
       "      <th></th>\n",
       "      <th>total_revenue</th>\n",
       "    </tr>\n",
       "  </thead>\n",
       "  <tbody>\n",
       "    <tr>\n",
       "      <th>0</th>\n",
       "      <td>3715</td>\n",
       "    </tr>\n",
       "  </tbody>\n",
       "</table>\n",
       "</div>"
      ],
      "text/plain": [
       "   total_revenue\n",
       "0           3715"
      ]
     },
     "execution_count": 47,
     "metadata": {},
     "output_type": "execute_result"
    }
   ],
   "source": [
    "query = \"\"\"SELECT SUM(Sales.total_price) AS total_revenue \n",
    "FROM Sales \n",
    "JOIN Products ON Sales.product_id = Products.product_id \n",
    "WHERE Products.category = 'Electronics'\n",
    "\"\"\"\n",
    "\n",
    "run_query(query) "
   ]
  },
  {
   "cell_type": "markdown",
   "id": "b0f7c25e-cd6a-4822-80a9-a7bd3bfb2d4e",
   "metadata": {},
   "source": [
    "#### 17. Retrieve the `product_name` and `unit_price` from the `Products` table, filtering the `unit_price` to show only values between \\\\$20 and \\\\$600."
   ]
  },
  {
   "cell_type": "code",
   "execution_count": 49,
   "id": "666bed69-ab72-4ffd-a8a9-4ce5f5260315",
   "metadata": {},
   "outputs": [
    {
     "data": {
      "text/html": [
       "<div>\n",
       "<style scoped>\n",
       "    .dataframe tbody tr th:only-of-type {\n",
       "        vertical-align: middle;\n",
       "    }\n",
       "\n",
       "    .dataframe tbody tr th {\n",
       "        vertical-align: top;\n",
       "    }\n",
       "\n",
       "    .dataframe thead th {\n",
       "        text-align: right;\n",
       "    }\n",
       "</style>\n",
       "<table border=\"1\" class=\"dataframe\">\n",
       "  <thead>\n",
       "    <tr style=\"text-align: right;\">\n",
       "      <th></th>\n",
       "      <th>product_name</th>\n",
       "      <th>unit_price</th>\n",
       "    </tr>\n",
       "  </thead>\n",
       "  <tbody>\n",
       "    <tr>\n",
       "      <th>0</th>\n",
       "      <td>Laptop</td>\n",
       "      <td>500</td>\n",
       "    </tr>\n",
       "    <tr>\n",
       "      <th>1</th>\n",
       "      <td>Smartphone</td>\n",
       "      <td>300</td>\n",
       "    </tr>\n",
       "    <tr>\n",
       "      <th>2</th>\n",
       "      <td>Headphones</td>\n",
       "      <td>30</td>\n",
       "    </tr>\n",
       "    <tr>\n",
       "      <th>3</th>\n",
       "      <td>Keyboard</td>\n",
       "      <td>20</td>\n",
       "    </tr>\n",
       "    <tr>\n",
       "      <th>4</th>\n",
       "      <td>Chair</td>\n",
       "      <td>200</td>\n",
       "    </tr>\n",
       "    <tr>\n",
       "      <th>5</th>\n",
       "      <td>Desk</td>\n",
       "      <td>400</td>\n",
       "    </tr>\n",
       "  </tbody>\n",
       "</table>\n",
       "</div>"
      ],
      "text/plain": [
       "  product_name  unit_price\n",
       "0       Laptop         500\n",
       "1   Smartphone         300\n",
       "2   Headphones          30\n",
       "3     Keyboard          20\n",
       "4        Chair         200\n",
       "5         Desk         400"
      ]
     },
     "execution_count": 49,
     "metadata": {},
     "output_type": "execute_result"
    }
   ],
   "source": [
    "query = \"\"\"SELECT product_name, unit_price \n",
    "FROM Products \n",
    "WHERE unit_price BETWEEN 20 AND 600\n",
    "\"\"\"\n",
    "\n",
    "run_query(query) "
   ]
  },
  {
   "cell_type": "markdown",
   "id": "fabea624-2544-484f-a3c7-838e82c6d0e0",
   "metadata": {},
   "source": [
    "#### 18. Retrieve the `product_name` and `category` from the `Product`s table, ordering the results by `category` in ascending order."
   ]
  },
  {
   "cell_type": "code",
   "execution_count": 51,
   "id": "e333d195-eab5-461f-924b-812771d351c7",
   "metadata": {},
   "outputs": [
    {
     "data": {
      "text/html": [
       "<div>\n",
       "<style scoped>\n",
       "    .dataframe tbody tr th:only-of-type {\n",
       "        vertical-align: middle;\n",
       "    }\n",
       "\n",
       "    .dataframe tbody tr th {\n",
       "        vertical-align: top;\n",
       "    }\n",
       "\n",
       "    .dataframe thead th {\n",
       "        text-align: right;\n",
       "    }\n",
       "</style>\n",
       "<table border=\"1\" class=\"dataframe\">\n",
       "  <thead>\n",
       "    <tr style=\"text-align: right;\">\n",
       "      <th></th>\n",
       "      <th>product_name</th>\n",
       "      <th>category</th>\n",
       "    </tr>\n",
       "  </thead>\n",
       "  <tbody>\n",
       "    <tr>\n",
       "      <th>0</th>\n",
       "      <td>Laptop</td>\n",
       "      <td>Electronics</td>\n",
       "    </tr>\n",
       "    <tr>\n",
       "      <th>1</th>\n",
       "      <td>Smartphone</td>\n",
       "      <td>Electronics</td>\n",
       "    </tr>\n",
       "    <tr>\n",
       "      <th>2</th>\n",
       "      <td>Headphones</td>\n",
       "      <td>Electronics</td>\n",
       "    </tr>\n",
       "    <tr>\n",
       "      <th>3</th>\n",
       "      <td>Keyboard</td>\n",
       "      <td>Electronics</td>\n",
       "    </tr>\n",
       "    <tr>\n",
       "      <th>4</th>\n",
       "      <td>Mouse</td>\n",
       "      <td>Electronics</td>\n",
       "    </tr>\n",
       "    <tr>\n",
       "      <th>5</th>\n",
       "      <td>Chair</td>\n",
       "      <td>Furniture</td>\n",
       "    </tr>\n",
       "    <tr>\n",
       "      <th>6</th>\n",
       "      <td>Desk</td>\n",
       "      <td>Furniture</td>\n",
       "    </tr>\n",
       "  </tbody>\n",
       "</table>\n",
       "</div>"
      ],
      "text/plain": [
       "  product_name     category\n",
       "0       Laptop  Electronics\n",
       "1   Smartphone  Electronics\n",
       "2   Headphones  Electronics\n",
       "3     Keyboard  Electronics\n",
       "4        Mouse  Electronics\n",
       "5        Chair    Furniture\n",
       "6         Desk    Furniture"
      ]
     },
     "execution_count": 51,
     "metadata": {},
     "output_type": "execute_result"
    }
   ],
   "source": [
    "query = \"\"\"SELECT product_name, category \n",
    "FROM Products \n",
    "ORDER BY category ASC\n",
    "\"\"\"\n",
    "\n",
    "run_query(query) "
   ]
  },
  {
   "cell_type": "markdown",
   "id": "e13ba53e-ac64-45bc-b1de-9074ec6d4244",
   "metadata": {},
   "source": [
    "## 4. Intermediate Exercises\n",
    "* These queries are more challenging and may require you to research other SQL commands and clauses.  \n",
    "* Be sure to include descriptive column headers for results of aggregate functions."
   ]
  },
  {
   "cell_type": "markdown",
   "id": "d96efd5f-8cda-4fb1-a3ce-a370c97cb35a",
   "metadata": {},
   "source": [
    "#### 1. Calculate the total `quantity_sold` of products in the **Electronics** category."
   ]
  },
  {
   "cell_type": "code",
   "execution_count": null,
   "id": "54d1d261-8117-4c7b-9e44-6849926ba102",
   "metadata": {},
   "outputs": [],
   "source": [
    "query = \"\"\"\n",
    "\n",
    "\"\"\"\n",
    "\n",
    "run_query(query) "
   ]
  },
  {
   "cell_type": "markdown",
   "id": "32805bdf-c8b6-4824-8c3c-70e3d7c40a7a",
   "metadata": {},
   "source": [
    "#### 2. Retrieve `sale_id`, `product_name` and `total_price` from the `Sales` table, calculating the `total_price` as `quantity_sold` multiplied by `unit_price` for each sale."
   ]
  },
  {
   "cell_type": "code",
   "execution_count": null,
   "id": "8ff5d994-8a18-4812-be57-471786346c64",
   "metadata": {},
   "outputs": [],
   "source": [
    "query = \"\"\"\n",
    "\n",
    "\"\"\"\n",
    "\n",
    "run_query(query) "
   ]
  },
  {
   "cell_type": "markdown",
   "id": "abfd9857-fed6-4621-b135-565733ef4725",
   "metadata": {},
   "source": [
    "#### 3. Identify the Most Frequently Sold Product from `Sales` table.\n",
    "* Be sure to include the product id and number of products sold. "
   ]
  },
  {
   "cell_type": "code",
   "execution_count": null,
   "id": "eb7cc49f-8aaa-42d5-86c8-b9fab7178930",
   "metadata": {},
   "outputs": [],
   "source": [
    "query = \"\"\"\n",
    "\n",
    "\"\"\"\n",
    "\n",
    "run_query(query) "
   ]
  },
  {
   "cell_type": "markdown",
   "id": "0a314c63-cc83-48ad-bd48-864141a19585",
   "metadata": {},
   "source": [
    "#### 4. Find the Products Not Sold from `Products` table."
   ]
  },
  {
   "cell_type": "code",
   "execution_count": null,
   "id": "1cf9be12-206b-4575-ab6f-907d0012f534",
   "metadata": {},
   "outputs": [],
   "source": [
    "query = \"\"\"\n",
    "\n",
    "\"\"\"\n",
    "\n",
    "run_query(query) "
   ]
  },
  {
   "cell_type": "markdown",
   "id": "d2ce979a-83fa-404d-8d3a-a0092af0900b",
   "metadata": {},
   "source": [
    "#### 5. Calculate the total revenue generated from sales for each product category.\n",
    "* To shorten the query, you may want to use aliases for the tables. "
   ]
  },
  {
   "cell_type": "code",
   "execution_count": null,
   "id": "067c6b41-34b1-4523-b825-67a334a3d64e",
   "metadata": {},
   "outputs": [],
   "source": [
    "query = \"\"\"\n",
    "\n",
    "\"\"\"\n",
    "\n",
    "run_query(query) "
   ]
  },
  {
   "cell_type": "markdown",
   "id": "d991d1b3-916d-4de2-a31d-89f025603ffc",
   "metadata": {},
   "source": [
    "#### 6. Find the product category with the highest average unit price."
   ]
  },
  {
   "cell_type": "code",
   "execution_count": null,
   "id": "dc106e40-0c44-4f00-9c98-6f866d032940",
   "metadata": {},
   "outputs": [],
   "source": [
    "query = \"\"\"\n",
    "\n",
    "\"\"\"\n",
    "\n",
    "run_query(query)"
   ]
  },
  {
   "cell_type": "markdown",
   "id": "cf47f6c7-31df-44d9-96a8-b20e6c016885",
   "metadata": {},
   "source": [
    "#### 7. Identify products with total sales exceeding \\\\$30.\n",
    "* For this query, you may want to use the `HAVING` clause.\n",
    "* You may also want to use table aliases here and for any of the following queries that are too long. "
   ]
  },
  {
   "cell_type": "code",
   "execution_count": null,
   "id": "c8d1fb02-95e6-4e4e-acec-bf4929c99dfa",
   "metadata": {},
   "outputs": [],
   "source": [
    "query = \"\"\"\n",
    "\n",
    "\"\"\"\n",
    "\n",
    "run_query(query)"
   ]
  },
  {
   "cell_type": "markdown",
   "id": "d311bd68-ccad-4349-9ad3-eb0ba763cbf7",
   "metadata": {},
   "source": [
    "#### 8. Retrieve Sales Details for Products with *'Smart'* in Their Name.\n",
    "* The `LIKE` clause is used to identify strings that contain specific sub-strings. "
   ]
  },
  {
   "cell_type": "code",
   "execution_count": null,
   "id": "127b39b8-3183-48e4-9cde-04e8c21df3da",
   "metadata": {},
   "outputs": [],
   "source": [
    "query = \"\"\"\n",
    "\n",
    "\"\"\"\n",
    "\n",
    "run_query(query)"
   ]
  },
  {
   "cell_type": "markdown",
   "id": "8c7178b0-8d08-4140-aa43-145f38ed413b",
   "metadata": {},
   "source": [
    "#### 9. Determine the average quantity sold for products with a unit price greater than \\\\$100."
   ]
  },
  {
   "cell_type": "code",
   "execution_count": null,
   "id": "39e74428-959a-43e7-a717-02952efb109a",
   "metadata": {},
   "outputs": [],
   "source": [
    "query = \"\"\"\n",
    "\n",
    "\"\"\"\n",
    "\n",
    "run_query(query)"
   ]
  },
  {
   "cell_type": "markdown",
   "id": "72cb1165-76cb-4b46-bfd2-a57e1eaac9d2",
   "metadata": {},
   "source": [
    "#### 10. Retrieve the product name and total sales revenue for each product.\n",
    "* Sort the products in ascending order by their total revenue. "
   ]
  },
  {
   "cell_type": "code",
   "execution_count": null,
   "id": "129305e9-b535-4ddf-812d-fa8890d1700c",
   "metadata": {},
   "outputs": [],
   "source": [
    "query = \"\"\"\n",
    "\n",
    "\"\"\"\n",
    "\n",
    "run_query(query)"
   ]
  },
  {
   "cell_type": "markdown",
   "id": "97eda3a1-3066-4863-9243-58bbdec2e6a1",
   "metadata": {},
   "source": [
    "#### 11. List all sales along with the corresponding product names."
   ]
  },
  {
   "cell_type": "code",
   "execution_count": null,
   "id": "f307dbf9-702c-4012-8d68-ffa84e7b1c99",
   "metadata": {},
   "outputs": [],
   "source": [
    "query = \"\"\"\n",
    "\n",
    "\"\"\"\n",
    "\n",
    "run_query(query)"
   ]
  },
  {
   "cell_type": "markdown",
   "id": "2d6bad54-26cc-4b54-8680-1dda78e35204",
   "metadata": {},
   "source": [
    "#### 12. Retrieve sales revenue by product category and return the top 3 categories contributing the most to total revenue."
   ]
  },
  {
   "cell_type": "code",
   "execution_count": null,
   "id": "f4765e45-bc79-4931-8dce-ee59870e451d",
   "metadata": {},
   "outputs": [],
   "source": [
    "query = \"\"\"\n",
    "\n",
    "\"\"\"\n",
    "\n",
    "run_query(query)"
   ]
  },
  {
   "cell_type": "markdown",
   "id": "31f51669-54c2-4040-beec-1f8f6786376a",
   "metadata": {},
   "source": [
    "#### 13. Rank products based on total sales revenue."
   ]
  },
  {
   "cell_type": "code",
   "execution_count": null,
   "id": "f20b29b7-4c0c-468f-98d7-8da71a61283c",
   "metadata": {},
   "outputs": [],
   "source": [
    "query = \"\"\"\n",
    "\n",
    "\"\"\"\n",
    "\n",
    "run_query(query)"
   ]
  },
  {
   "cell_type": "markdown",
   "id": "e1d71912-6ca7-40d0-969d-18049f73e9a2",
   "metadata": {},
   "source": [
    "#### 14. Categorize sales as \"High\", \"Medium\", or \"Low\" based on total price. \n",
    "* High: total price $\\ge$ \\\\$200 \n",
    "* Medium: \\\\$100 $\\le$ total price $\\lt$ \\\\$200\n",
    "* Low: total price $\\lt$ \\\\$100"
   ]
  },
  {
   "cell_type": "code",
   "execution_count": null,
   "id": "2f482765-560e-4014-b52d-a0fa31fc0512",
   "metadata": {},
   "outputs": [],
   "source": [
    "query = \"\"\"\n",
    "\n",
    "\"\"\"\n",
    "\n",
    "run_query(query)"
   ]
  },
  {
   "cell_type": "markdown",
   "id": "ea6c6e08-4077-4c59-a855-428b4f01fa21",
   "metadata": {},
   "source": [
    "#### 15. Identify sales where the quantity sold is greater than the average quantity sold."
   ]
  },
  {
   "cell_type": "code",
   "execution_count": null,
   "id": "21286320-7cbb-4c47-a21c-fed30a116748",
   "metadata": {},
   "outputs": [],
   "source": [
    "query = \"\"\"\n",
    "\n",
    "\"\"\"\n",
    "\n",
    "run_query(query)"
   ]
  },
  {
   "cell_type": "markdown",
   "id": "c6c2d9e3-44f9-45e7-861a-164689db0983",
   "metadata": {},
   "source": [
    "#### 16. Retrieve the product details (name, category, unit price) for products that have a quantity sold greater than the average quantity sold across all products."
   ]
  },
  {
   "cell_type": "code",
   "execution_count": null,
   "id": "2a6dd36b-b67e-4fce-a71a-54543a7e54e2",
   "metadata": {},
   "outputs": [],
   "source": [
    "query = \"\"\"\n",
    "\n",
    "\"\"\"\n",
    "\n",
    "run_query(query)"
   ]
  },
  {
   "cell_type": "markdown",
   "id": "ac1da979-97d6-4070-a305-26c59737f71c",
   "metadata": {},
   "source": [
    "#### 17. Create a query that lists the product names along with their corresponding sales count."
   ]
  },
  {
   "cell_type": "code",
   "execution_count": null,
   "id": "8568f359-1f85-4e36-add8-3812b1e063fb",
   "metadata": {},
   "outputs": [],
   "source": [
    "query = \"\"\"\n",
    "\n",
    "\"\"\"\n",
    "\n",
    "run_query(query)"
   ]
  },
  {
   "cell_type": "markdown",
   "id": "624a4292-3389-4c2e-af90-b0a30c57e368",
   "metadata": {},
   "source": [
    "#### 18. Write a query to find all sales where the total price is greater than the average total price of all sales."
   ]
  },
  {
   "cell_type": "code",
   "execution_count": null,
   "id": "303e36b5-b691-4838-8efe-302595c4c97a",
   "metadata": {},
   "outputs": [],
   "source": [
    "query = \"\"\"\n",
    "\n",
    "\"\"\"\n",
    "\n",
    "run_query(query)"
   ]
  },
  {
   "cell_type": "markdown",
   "id": "8001ebb8-ff9e-4f48-b958-b38ea0201334",
   "metadata": {},
   "source": [
    "## 5. Answers: Intermediate Exercises"
   ]
  },
  {
   "cell_type": "markdown",
   "id": "48ffdd7d-2c9a-4a8c-b5b4-85b0652c5b9b",
   "metadata": {},
   "source": [
    "#### 1. Calculate the total `quantity_sold` of products in the **Electronics** category."
   ]
  },
  {
   "cell_type": "code",
   "execution_count": 53,
   "id": "613dea22-d72c-459b-b204-aa883366d36c",
   "metadata": {},
   "outputs": [
    {
     "data": {
      "text/html": [
       "<div>\n",
       "<style scoped>\n",
       "    .dataframe tbody tr th:only-of-type {\n",
       "        vertical-align: middle;\n",
       "    }\n",
       "\n",
       "    .dataframe tbody tr th {\n",
       "        vertical-align: top;\n",
       "    }\n",
       "\n",
       "    .dataframe thead th {\n",
       "        text-align: right;\n",
       "    }\n",
       "</style>\n",
       "<table border=\"1\" class=\"dataframe\">\n",
       "  <thead>\n",
       "    <tr style=\"text-align: right;\">\n",
       "      <th></th>\n",
       "      <th>total_quantity_sold</th>\n",
       "    </tr>\n",
       "  </thead>\n",
       "  <tbody>\n",
       "    <tr>\n",
       "      <th>0</th>\n",
       "      <td>25</td>\n",
       "    </tr>\n",
       "  </tbody>\n",
       "</table>\n",
       "</div>"
      ],
      "text/plain": [
       "   total_quantity_sold\n",
       "0                   25"
      ]
     },
     "execution_count": 53,
     "metadata": {},
     "output_type": "execute_result"
    }
   ],
   "source": [
    "query = \"\"\"SELECT SUM(quantity_sold) AS total_quantity_sold \n",
    "FROM Sales \n",
    "JOIN Products ON Sales.product_id = Products.product_id \n",
    "WHERE Products.category = 'Electronics'\n",
    "\"\"\"\n",
    "\n",
    "run_query(query) "
   ]
  },
  {
   "cell_type": "markdown",
   "id": "0b61b976-da49-4cd4-97d2-067af41ea4f3",
   "metadata": {},
   "source": [
    "#### 2. Retrieve `sale_id`, `product_name` and `total_price` from the `Sales` table, calculating the `total_price` as `quantity_sold` multiplied by `unit_price` for each sale."
   ]
  },
  {
   "cell_type": "code",
   "execution_count": 57,
   "id": "0a53f1a3-48c9-43f3-b876-c1f08d3565a4",
   "metadata": {},
   "outputs": [
    {
     "data": {
      "text/html": [
       "<div>\n",
       "<style scoped>\n",
       "    .dataframe tbody tr th:only-of-type {\n",
       "        vertical-align: middle;\n",
       "    }\n",
       "\n",
       "    .dataframe tbody tr th {\n",
       "        vertical-align: top;\n",
       "    }\n",
       "\n",
       "    .dataframe thead th {\n",
       "        text-align: right;\n",
       "    }\n",
       "</style>\n",
       "<table border=\"1\" class=\"dataframe\">\n",
       "  <thead>\n",
       "    <tr style=\"text-align: right;\">\n",
       "      <th></th>\n",
       "      <th>sale_id</th>\n",
       "      <th>product_name</th>\n",
       "      <th>total_price</th>\n",
       "    </tr>\n",
       "  </thead>\n",
       "  <tbody>\n",
       "    <tr>\n",
       "      <th>0</th>\n",
       "      <td>1</td>\n",
       "      <td>Laptop</td>\n",
       "      <td>2500</td>\n",
       "    </tr>\n",
       "    <tr>\n",
       "      <th>1</th>\n",
       "      <td>2</td>\n",
       "      <td>Smartphone</td>\n",
       "      <td>900</td>\n",
       "    </tr>\n",
       "    <tr>\n",
       "      <th>2</th>\n",
       "      <td>3</td>\n",
       "      <td>Headphones</td>\n",
       "      <td>60</td>\n",
       "    </tr>\n",
       "    <tr>\n",
       "      <th>3</th>\n",
       "      <td>4</td>\n",
       "      <td>Keyboard</td>\n",
       "      <td>80</td>\n",
       "    </tr>\n",
       "    <tr>\n",
       "      <th>4</th>\n",
       "      <td>5</td>\n",
       "      <td>Mouse</td>\n",
       "      <td>90</td>\n",
       "    </tr>\n",
       "    <tr>\n",
       "      <th>5</th>\n",
       "      <td>6</td>\n",
       "      <td>Keyboard</td>\n",
       "      <td>40</td>\n",
       "    </tr>\n",
       "    <tr>\n",
       "      <th>6</th>\n",
       "      <td>7</td>\n",
       "      <td>Mouse</td>\n",
       "      <td>45</td>\n",
       "    </tr>\n",
       "  </tbody>\n",
       "</table>\n",
       "</div>"
      ],
      "text/plain": [
       "   sale_id product_name  total_price\n",
       "0        1       Laptop         2500\n",
       "1        2   Smartphone          900\n",
       "2        3   Headphones           60\n",
       "3        4     Keyboard           80\n",
       "4        5        Mouse           90\n",
       "5        6     Keyboard           40\n",
       "6        7        Mouse           45"
      ]
     },
     "execution_count": 57,
     "metadata": {},
     "output_type": "execute_result"
    }
   ],
   "source": [
    "query = \"\"\"SELECT sale_id, product_name, quantity_sold * unit_price AS total_price \n",
    "FROM Sales \n",
    "JOIN Products ON Sales.product_id = Products.product_id\n",
    "\"\"\"\n",
    "\n",
    "run_query(query) "
   ]
  },
  {
   "cell_type": "markdown",
   "id": "219624b5-280f-450c-8f78-669e63c99eef",
   "metadata": {},
   "source": [
    "#### 3. Identify the Most Frequently Sold Product from `Sales` table.\n",
    "* Be sure to include the product id and number of products sold. "
   ]
  },
  {
   "cell_type": "code",
   "execution_count": 67,
   "id": "7f87cdb4-efb3-4fe3-8dbb-40eae20994c7",
   "metadata": {},
   "outputs": [
    {
     "data": {
      "text/html": [
       "<div>\n",
       "<style scoped>\n",
       "    .dataframe tbody tr th:only-of-type {\n",
       "        vertical-align: middle;\n",
       "    }\n",
       "\n",
       "    .dataframe tbody tr th {\n",
       "        vertical-align: top;\n",
       "    }\n",
       "\n",
       "    .dataframe thead th {\n",
       "        text-align: right;\n",
       "    }\n",
       "</style>\n",
       "<table border=\"1\" class=\"dataframe\">\n",
       "  <thead>\n",
       "    <tr style=\"text-align: right;\">\n",
       "      <th></th>\n",
       "      <th>product_id</th>\n",
       "      <th>sales_count</th>\n",
       "    </tr>\n",
       "  </thead>\n",
       "  <tbody>\n",
       "    <tr>\n",
       "      <th>0</th>\n",
       "      <td>105</td>\n",
       "      <td>2</td>\n",
       "    </tr>\n",
       "  </tbody>\n",
       "</table>\n",
       "</div>"
      ],
      "text/plain": [
       "   product_id  sales_count\n",
       "0         105            2"
      ]
     },
     "execution_count": 67,
     "metadata": {},
     "output_type": "execute_result"
    }
   ],
   "source": [
    "query = \"\"\"SELECT product_id, COUNT(*) AS sales_count \n",
    "FROM Sales \n",
    "GROUP BY product_id \n",
    "ORDER BY sales_count DESC \n",
    "LIMIT 1\n",
    "\"\"\"\n",
    "\n",
    "run_query(query) "
   ]
  },
  {
   "cell_type": "markdown",
   "id": "1a7d5f34-1531-4cd7-b94a-e053a738236e",
   "metadata": {},
   "source": [
    "#### 4. Find the Products Not Sold from `Products` table."
   ]
  },
  {
   "cell_type": "code",
   "execution_count": 69,
   "id": "eec0aabf-c46e-46b1-9774-a411255e3696",
   "metadata": {},
   "outputs": [
    {
     "data": {
      "text/html": [
       "<div>\n",
       "<style scoped>\n",
       "    .dataframe tbody tr th:only-of-type {\n",
       "        vertical-align: middle;\n",
       "    }\n",
       "\n",
       "    .dataframe tbody tr th {\n",
       "        vertical-align: top;\n",
       "    }\n",
       "\n",
       "    .dataframe thead th {\n",
       "        text-align: right;\n",
       "    }\n",
       "</style>\n",
       "<table border=\"1\" class=\"dataframe\">\n",
       "  <thead>\n",
       "    <tr style=\"text-align: right;\">\n",
       "      <th></th>\n",
       "      <th>product_id</th>\n",
       "      <th>product_name</th>\n",
       "    </tr>\n",
       "  </thead>\n",
       "  <tbody>\n",
       "    <tr>\n",
       "      <th>0</th>\n",
       "      <td>201</td>\n",
       "      <td>Chair</td>\n",
       "    </tr>\n",
       "    <tr>\n",
       "      <th>1</th>\n",
       "      <td>202</td>\n",
       "      <td>Desk</td>\n",
       "    </tr>\n",
       "  </tbody>\n",
       "</table>\n",
       "</div>"
      ],
      "text/plain": [
       "   product_id product_name\n",
       "0         201        Chair\n",
       "1         202         Desk"
      ]
     },
     "execution_count": 69,
     "metadata": {},
     "output_type": "execute_result"
    }
   ],
   "source": [
    "query = \"\"\"SELECT product_id, product_name \n",
    "FROM Products \n",
    "WHERE product_id NOT IN (SELECT DISTINCT product_id FROM Sales)\n",
    "\"\"\"\n",
    "\n",
    "run_query(query) "
   ]
  },
  {
   "cell_type": "markdown",
   "id": "5894e6c0-d7ae-4cbf-8798-1e44acbe2114",
   "metadata": {},
   "source": [
    "#### 5. Calculate the total revenue generated from sales for each product category.\n",
    "* To shorten the query, you may want to use aliases for the tables. "
   ]
  },
  {
   "cell_type": "code",
   "execution_count": 71,
   "id": "bcd42d19-19a7-4658-8973-6e5e262ffd4f",
   "metadata": {},
   "outputs": [
    {
     "data": {
      "text/html": [
       "<div>\n",
       "<style scoped>\n",
       "    .dataframe tbody tr th:only-of-type {\n",
       "        vertical-align: middle;\n",
       "    }\n",
       "\n",
       "    .dataframe tbody tr th {\n",
       "        vertical-align: top;\n",
       "    }\n",
       "\n",
       "    .dataframe thead th {\n",
       "        text-align: right;\n",
       "    }\n",
       "</style>\n",
       "<table border=\"1\" class=\"dataframe\">\n",
       "  <thead>\n",
       "    <tr style=\"text-align: right;\">\n",
       "      <th></th>\n",
       "      <th>category</th>\n",
       "      <th>total_revenue</th>\n",
       "    </tr>\n",
       "  </thead>\n",
       "  <tbody>\n",
       "    <tr>\n",
       "      <th>0</th>\n",
       "      <td>Electronics</td>\n",
       "      <td>3715</td>\n",
       "    </tr>\n",
       "  </tbody>\n",
       "</table>\n",
       "</div>"
      ],
      "text/plain": [
       "      category  total_revenue\n",
       "0  Electronics           3715"
      ]
     },
     "execution_count": 71,
     "metadata": {},
     "output_type": "execute_result"
    }
   ],
   "source": [
    "query = \"\"\"SELECT p.category, SUM(s.total_price) AS total_revenue\n",
    "FROM Sales AS s\n",
    "JOIN Products AS p ON s.product_id = p.product_id\n",
    "GROUP BY p.category\n",
    "\"\"\"\n",
    "\n",
    "run_query(query) "
   ]
  },
  {
   "cell_type": "markdown",
   "id": "4ad1808f-78c9-4e24-ac5d-66301ea86280",
   "metadata": {},
   "source": [
    "#### 6. Find the product category with the highest average unit price."
   ]
  },
  {
   "cell_type": "code",
   "execution_count": 73,
   "id": "1fb1b35b-990c-4cac-b03d-a0f3cc466587",
   "metadata": {},
   "outputs": [
    {
     "data": {
      "text/html": [
       "<div>\n",
       "<style scoped>\n",
       "    .dataframe tbody tr th:only-of-type {\n",
       "        vertical-align: middle;\n",
       "    }\n",
       "\n",
       "    .dataframe tbody tr th {\n",
       "        vertical-align: top;\n",
       "    }\n",
       "\n",
       "    .dataframe thead th {\n",
       "        text-align: right;\n",
       "    }\n",
       "</style>\n",
       "<table border=\"1\" class=\"dataframe\">\n",
       "  <thead>\n",
       "    <tr style=\"text-align: right;\">\n",
       "      <th></th>\n",
       "      <th>category</th>\n",
       "    </tr>\n",
       "  </thead>\n",
       "  <tbody>\n",
       "    <tr>\n",
       "      <th>0</th>\n",
       "      <td>Furniture</td>\n",
       "    </tr>\n",
       "  </tbody>\n",
       "</table>\n",
       "</div>"
      ],
      "text/plain": [
       "    category\n",
       "0  Furniture"
      ]
     },
     "execution_count": 73,
     "metadata": {},
     "output_type": "execute_result"
    }
   ],
   "source": [
    "query = \"\"\"SELECT category\n",
    "FROM Products\n",
    "GROUP BY category\n",
    "ORDER BY AVG(unit_price) DESC\n",
    "LIMIT 1\n",
    "\"\"\"\n",
    "\n",
    "run_query(query)"
   ]
  },
  {
   "cell_type": "markdown",
   "id": "a99fa35e-3d21-44b5-bca3-8e55a97ba5e2",
   "metadata": {},
   "source": [
    "#### 7. Identify products with total sales exceeding \\\\$30.\n",
    "* For this query, you may want to use the `HAVING` clause.\n",
    "* You may also want to use table aliases here and for any of the following queries that are too long. "
   ]
  },
  {
   "cell_type": "code",
   "execution_count": 75,
   "id": "48fe08d4-d3fa-4d73-b416-c988422a57b4",
   "metadata": {},
   "outputs": [
    {
     "data": {
      "text/html": [
       "<div>\n",
       "<style scoped>\n",
       "    .dataframe tbody tr th:only-of-type {\n",
       "        vertical-align: middle;\n",
       "    }\n",
       "\n",
       "    .dataframe tbody tr th {\n",
       "        vertical-align: top;\n",
       "    }\n",
       "\n",
       "    .dataframe thead th {\n",
       "        text-align: right;\n",
       "    }\n",
       "</style>\n",
       "<table border=\"1\" class=\"dataframe\">\n",
       "  <thead>\n",
       "    <tr style=\"text-align: right;\">\n",
       "      <th></th>\n",
       "      <th>product_name</th>\n",
       "    </tr>\n",
       "  </thead>\n",
       "  <tbody>\n",
       "    <tr>\n",
       "      <th>0</th>\n",
       "      <td>Headphones</td>\n",
       "    </tr>\n",
       "    <tr>\n",
       "      <th>1</th>\n",
       "      <td>Keyboard</td>\n",
       "    </tr>\n",
       "    <tr>\n",
       "      <th>2</th>\n",
       "      <td>Laptop</td>\n",
       "    </tr>\n",
       "    <tr>\n",
       "      <th>3</th>\n",
       "      <td>Mouse</td>\n",
       "    </tr>\n",
       "    <tr>\n",
       "      <th>4</th>\n",
       "      <td>Smartphone</td>\n",
       "    </tr>\n",
       "  </tbody>\n",
       "</table>\n",
       "</div>"
      ],
      "text/plain": [
       "  product_name\n",
       "0   Headphones\n",
       "1     Keyboard\n",
       "2       Laptop\n",
       "3        Mouse\n",
       "4   Smartphone"
      ]
     },
     "execution_count": 75,
     "metadata": {},
     "output_type": "execute_result"
    }
   ],
   "source": [
    "query = \"\"\"SELECT p.product_name\n",
    "FROM Sales AS s\n",
    "JOIN Products AS p ON s.product_id = p.product_id\n",
    "GROUP BY p.product_name\n",
    "HAVING SUM(s.total_price) > 30\n",
    "\"\"\"\n",
    "\n",
    "run_query(query)"
   ]
  },
  {
   "cell_type": "markdown",
   "id": "b3fe37b2-0d2f-460f-b1f2-0ede7169f69f",
   "metadata": {},
   "source": [
    "#### 8. Retrieve Sales Details for Products with *'Smart'* in Their Name.\n",
    "* The `LIKE` clause is used to identify strings that contain specific sub-strings. "
   ]
  },
  {
   "cell_type": "code",
   "execution_count": 77,
   "id": "7283767a-35c9-49e8-b916-053e265d3d8e",
   "metadata": {},
   "outputs": [
    {
     "data": {
      "text/html": [
       "<div>\n",
       "<style scoped>\n",
       "    .dataframe tbody tr th:only-of-type {\n",
       "        vertical-align: middle;\n",
       "    }\n",
       "\n",
       "    .dataframe tbody tr th {\n",
       "        vertical-align: top;\n",
       "    }\n",
       "\n",
       "    .dataframe thead th {\n",
       "        text-align: right;\n",
       "    }\n",
       "</style>\n",
       "<table border=\"1\" class=\"dataframe\">\n",
       "  <thead>\n",
       "    <tr style=\"text-align: right;\">\n",
       "      <th></th>\n",
       "      <th>sale_id</th>\n",
       "      <th>product_name</th>\n",
       "      <th>total_price</th>\n",
       "    </tr>\n",
       "  </thead>\n",
       "  <tbody>\n",
       "    <tr>\n",
       "      <th>0</th>\n",
       "      <td>2</td>\n",
       "      <td>Smartphone</td>\n",
       "      <td>900</td>\n",
       "    </tr>\n",
       "  </tbody>\n",
       "</table>\n",
       "</div>"
      ],
      "text/plain": [
       "   sale_id product_name  total_price\n",
       "0        2   Smartphone          900"
      ]
     },
     "execution_count": 77,
     "metadata": {},
     "output_type": "execute_result"
    }
   ],
   "source": [
    "query = \"\"\"SELECT s.sale_id, p.product_name, s.total_price \n",
    "FROM Sales AS s \n",
    "JOIN Products AS p ON s.product_id = p.product_id \n",
    "WHERE p.product_name LIKE '%Smart%'\n",
    "\"\"\"\n",
    "\n",
    "run_query(query)"
   ]
  },
  {
   "cell_type": "markdown",
   "id": "044532e4-8b5d-479e-95a5-ef73249fc81d",
   "metadata": {},
   "source": [
    "#### 9. Determine the average quantity sold for products with a unit price greater than \\\\$100."
   ]
  },
  {
   "cell_type": "code",
   "execution_count": 79,
   "id": "7a9e7fb8-3a9e-40bf-9497-c5eab4f208ad",
   "metadata": {},
   "outputs": [
    {
     "data": {
      "text/html": [
       "<div>\n",
       "<style scoped>\n",
       "    .dataframe tbody tr th:only-of-type {\n",
       "        vertical-align: middle;\n",
       "    }\n",
       "\n",
       "    .dataframe tbody tr th {\n",
       "        vertical-align: top;\n",
       "    }\n",
       "\n",
       "    .dataframe thead th {\n",
       "        text-align: right;\n",
       "    }\n",
       "</style>\n",
       "<table border=\"1\" class=\"dataframe\">\n",
       "  <thead>\n",
       "    <tr style=\"text-align: right;\">\n",
       "      <th></th>\n",
       "      <th>average_quantity_sold</th>\n",
       "    </tr>\n",
       "  </thead>\n",
       "  <tbody>\n",
       "    <tr>\n",
       "      <th>0</th>\n",
       "      <td>4.0</td>\n",
       "    </tr>\n",
       "  </tbody>\n",
       "</table>\n",
       "</div>"
      ],
      "text/plain": [
       "   average_quantity_sold\n",
       "0                    4.0"
      ]
     },
     "execution_count": 79,
     "metadata": {},
     "output_type": "execute_result"
    }
   ],
   "source": [
    "query = \"\"\"SELECT AVG(s.quantity_sold) AS average_quantity_sold\n",
    "FROM Sales AS s\n",
    "JOIN Products AS p ON s.product_id = p.product_id\n",
    "WHERE p.unit_price > 100\n",
    "\"\"\"\n",
    "\n",
    "run_query(query)"
   ]
  },
  {
   "cell_type": "markdown",
   "id": "2e9da583-268a-4807-8988-a4815c9458cd",
   "metadata": {},
   "source": [
    "#### 10. Retrieve the product name and total sales revenue for each product.\n",
    "* Sort the products in ascending order by their total revenue. "
   ]
  },
  {
   "cell_type": "code",
   "execution_count": 81,
   "id": "b2f427ee-0a55-42fd-a45c-d7a06f2fec1e",
   "metadata": {},
   "outputs": [
    {
     "data": {
      "text/html": [
       "<div>\n",
       "<style scoped>\n",
       "    .dataframe tbody tr th:only-of-type {\n",
       "        vertical-align: middle;\n",
       "    }\n",
       "\n",
       "    .dataframe tbody tr th {\n",
       "        vertical-align: top;\n",
       "    }\n",
       "\n",
       "    .dataframe thead th {\n",
       "        text-align: right;\n",
       "    }\n",
       "</style>\n",
       "<table border=\"1\" class=\"dataframe\">\n",
       "  <thead>\n",
       "    <tr style=\"text-align: right;\">\n",
       "      <th></th>\n",
       "      <th>product_name</th>\n",
       "      <th>total_revenue</th>\n",
       "    </tr>\n",
       "  </thead>\n",
       "  <tbody>\n",
       "    <tr>\n",
       "      <th>0</th>\n",
       "      <td>Headphones</td>\n",
       "      <td>60</td>\n",
       "    </tr>\n",
       "    <tr>\n",
       "      <th>1</th>\n",
       "      <td>Keyboard</td>\n",
       "      <td>120</td>\n",
       "    </tr>\n",
       "    <tr>\n",
       "      <th>2</th>\n",
       "      <td>Mouse</td>\n",
       "      <td>135</td>\n",
       "    </tr>\n",
       "    <tr>\n",
       "      <th>3</th>\n",
       "      <td>Smartphone</td>\n",
       "      <td>900</td>\n",
       "    </tr>\n",
       "    <tr>\n",
       "      <th>4</th>\n",
       "      <td>Laptop</td>\n",
       "      <td>2500</td>\n",
       "    </tr>\n",
       "  </tbody>\n",
       "</table>\n",
       "</div>"
      ],
      "text/plain": [
       "  product_name  total_revenue\n",
       "0   Headphones             60\n",
       "1     Keyboard            120\n",
       "2        Mouse            135\n",
       "3   Smartphone            900\n",
       "4       Laptop           2500"
      ]
     },
     "execution_count": 81,
     "metadata": {},
     "output_type": "execute_result"
    }
   ],
   "source": [
    "query = \"\"\"SELECT p.product_name, SUM(s.total_price) AS total_revenue\n",
    "FROM Sales AS s\n",
    "JOIN Products AS p ON s.product_id = p.product_id\n",
    "GROUP BY p.product_name\n",
    "ORDER BY total_revenue\n",
    "\"\"\"\n",
    "\n",
    "run_query(query)"
   ]
  },
  {
   "cell_type": "markdown",
   "id": "5ebbcfb1-0640-404b-9e3d-6a27beaccb60",
   "metadata": {},
   "source": [
    "#### 11. List all sales along with the corresponding product names."
   ]
  },
  {
   "cell_type": "code",
   "execution_count": 83,
   "id": "d54f401c-cc6b-4213-8586-20330f6f1ebd",
   "metadata": {},
   "outputs": [
    {
     "data": {
      "text/html": [
       "<div>\n",
       "<style scoped>\n",
       "    .dataframe tbody tr th:only-of-type {\n",
       "        vertical-align: middle;\n",
       "    }\n",
       "\n",
       "    .dataframe tbody tr th {\n",
       "        vertical-align: top;\n",
       "    }\n",
       "\n",
       "    .dataframe thead th {\n",
       "        text-align: right;\n",
       "    }\n",
       "</style>\n",
       "<table border=\"1\" class=\"dataframe\">\n",
       "  <thead>\n",
       "    <tr style=\"text-align: right;\">\n",
       "      <th></th>\n",
       "      <th>sale_id</th>\n",
       "      <th>product_name</th>\n",
       "    </tr>\n",
       "  </thead>\n",
       "  <tbody>\n",
       "    <tr>\n",
       "      <th>0</th>\n",
       "      <td>1</td>\n",
       "      <td>Laptop</td>\n",
       "    </tr>\n",
       "    <tr>\n",
       "      <th>1</th>\n",
       "      <td>2</td>\n",
       "      <td>Smartphone</td>\n",
       "    </tr>\n",
       "    <tr>\n",
       "      <th>2</th>\n",
       "      <td>3</td>\n",
       "      <td>Headphones</td>\n",
       "    </tr>\n",
       "    <tr>\n",
       "      <th>3</th>\n",
       "      <td>4</td>\n",
       "      <td>Keyboard</td>\n",
       "    </tr>\n",
       "    <tr>\n",
       "      <th>4</th>\n",
       "      <td>5</td>\n",
       "      <td>Mouse</td>\n",
       "    </tr>\n",
       "    <tr>\n",
       "      <th>5</th>\n",
       "      <td>6</td>\n",
       "      <td>Keyboard</td>\n",
       "    </tr>\n",
       "    <tr>\n",
       "      <th>6</th>\n",
       "      <td>7</td>\n",
       "      <td>Mouse</td>\n",
       "    </tr>\n",
       "  </tbody>\n",
       "</table>\n",
       "</div>"
      ],
      "text/plain": [
       "   sale_id product_name\n",
       "0        1       Laptop\n",
       "1        2   Smartphone\n",
       "2        3   Headphones\n",
       "3        4     Keyboard\n",
       "4        5        Mouse\n",
       "5        6     Keyboard\n",
       "6        7        Mouse"
      ]
     },
     "execution_count": 83,
     "metadata": {},
     "output_type": "execute_result"
    }
   ],
   "source": [
    "query = \"\"\"SELECT s.sale_id, p.product_name\n",
    "FROM Sales AS s\n",
    "JOIN Products AS p ON s.product_id = p.product_id\n",
    "\"\"\"\n",
    "\n",
    "run_query(query)"
   ]
  },
  {
   "cell_type": "markdown",
   "id": "d3d9cb5c-21ca-482d-9b9a-46f6fa536714",
   "metadata": {},
   "source": [
    "#### 12. Retrieve sales revenue by product category and return the top 3 categories contributing the most to total revenue."
   ]
  },
  {
   "cell_type": "code",
   "execution_count": 85,
   "id": "2f2ed361-a9ff-4775-8bb4-d5f7aefd857b",
   "metadata": {},
   "outputs": [
    {
     "data": {
      "text/html": [
       "<div>\n",
       "<style scoped>\n",
       "    .dataframe tbody tr th:only-of-type {\n",
       "        vertical-align: middle;\n",
       "    }\n",
       "\n",
       "    .dataframe tbody tr th {\n",
       "        vertical-align: top;\n",
       "    }\n",
       "\n",
       "    .dataframe thead th {\n",
       "        text-align: right;\n",
       "    }\n",
       "</style>\n",
       "<table border=\"1\" class=\"dataframe\">\n",
       "  <thead>\n",
       "    <tr style=\"text-align: right;\">\n",
       "      <th></th>\n",
       "      <th>category</th>\n",
       "      <th>category_revenue</th>\n",
       "      <th>revenue_percentage</th>\n",
       "    </tr>\n",
       "  </thead>\n",
       "  <tbody>\n",
       "    <tr>\n",
       "      <th>0</th>\n",
       "      <td>Electronics</td>\n",
       "      <td>3715</td>\n",
       "      <td>100</td>\n",
       "    </tr>\n",
       "  </tbody>\n",
       "</table>\n",
       "</div>"
      ],
      "text/plain": [
       "      category  category_revenue  revenue_percentage\n",
       "0  Electronics              3715                 100"
      ]
     },
     "execution_count": 85,
     "metadata": {},
     "output_type": "execute_result"
    }
   ],
   "source": [
    "query = \"\"\"SELECT p.category, \n",
    "       SUM(s.total_price) AS category_revenue,\n",
    "       (SUM(s.total_price) / (SELECT SUM(total_price) FROM Sales)) * 100 AS revenue_percentage\n",
    "FROM Sales AS s\n",
    "JOIN Products AS p ON s.product_id = p.product_id\n",
    "GROUP BY p.category\n",
    "ORDER BY revenue_percentage DESC\n",
    "LIMIT 3\n",
    "\"\"\"\n",
    "\n",
    "run_query(query)"
   ]
  },
  {
   "cell_type": "markdown",
   "id": "942554d9-38aa-4786-b0d1-279c4e25f304",
   "metadata": {},
   "source": [
    "#### 13. Rank products based on total sales revenue."
   ]
  },
  {
   "cell_type": "code",
   "execution_count": 87,
   "id": "91326088-57ea-48a3-83a2-e8f502e73040",
   "metadata": {},
   "outputs": [
    {
     "data": {
      "text/html": [
       "<div>\n",
       "<style scoped>\n",
       "    .dataframe tbody tr th:only-of-type {\n",
       "        vertical-align: middle;\n",
       "    }\n",
       "\n",
       "    .dataframe tbody tr th {\n",
       "        vertical-align: top;\n",
       "    }\n",
       "\n",
       "    .dataframe thead th {\n",
       "        text-align: right;\n",
       "    }\n",
       "</style>\n",
       "<table border=\"1\" class=\"dataframe\">\n",
       "  <thead>\n",
       "    <tr style=\"text-align: right;\">\n",
       "      <th></th>\n",
       "      <th>product_name</th>\n",
       "      <th>total_revenue</th>\n",
       "      <th>revenue_rank</th>\n",
       "    </tr>\n",
       "  </thead>\n",
       "  <tbody>\n",
       "    <tr>\n",
       "      <th>0</th>\n",
       "      <td>Laptop</td>\n",
       "      <td>2500</td>\n",
       "      <td>1</td>\n",
       "    </tr>\n",
       "    <tr>\n",
       "      <th>1</th>\n",
       "      <td>Smartphone</td>\n",
       "      <td>900</td>\n",
       "      <td>2</td>\n",
       "    </tr>\n",
       "    <tr>\n",
       "      <th>2</th>\n",
       "      <td>Mouse</td>\n",
       "      <td>135</td>\n",
       "      <td>3</td>\n",
       "    </tr>\n",
       "    <tr>\n",
       "      <th>3</th>\n",
       "      <td>Keyboard</td>\n",
       "      <td>120</td>\n",
       "      <td>4</td>\n",
       "    </tr>\n",
       "    <tr>\n",
       "      <th>4</th>\n",
       "      <td>Headphones</td>\n",
       "      <td>60</td>\n",
       "      <td>5</td>\n",
       "    </tr>\n",
       "  </tbody>\n",
       "</table>\n",
       "</div>"
      ],
      "text/plain": [
       "  product_name  total_revenue  revenue_rank\n",
       "0       Laptop           2500             1\n",
       "1   Smartphone            900             2\n",
       "2        Mouse            135             3\n",
       "3     Keyboard            120             4\n",
       "4   Headphones             60             5"
      ]
     },
     "execution_count": 87,
     "metadata": {},
     "output_type": "execute_result"
    }
   ],
   "source": [
    "query = \"\"\"SELECT p.product_name, SUM(s.total_price) AS total_revenue,\n",
    "       RANK() OVER (ORDER BY SUM(s.total_price) DESC) AS revenue_rank\n",
    "FROM Sales AS s\n",
    "JOIN Products AS p ON s.product_id = p.product_id\n",
    "GROUP BY p.product_name\n",
    "\"\"\"\n",
    "\n",
    "run_query(query)"
   ]
  },
  {
   "cell_type": "markdown",
   "id": "58d60a7f-661d-428a-8263-9eafcef090e8",
   "metadata": {},
   "source": [
    "#### 14. Categorize sales as \"High\", \"Medium\", or \"Low\" based on total price. \n",
    "* High: total price $\\ge$ \\\\$200 \n",
    "* Medium: \\\\$100 $\\le$ total price $\\lt$ \\\\$200\n",
    "* Low: total price $\\lt$ \\\\$100"
   ]
  },
  {
   "cell_type": "code",
   "execution_count": 94,
   "id": "57385981-dc6e-4d9c-a901-bc2810a3cdcf",
   "metadata": {},
   "outputs": [
    {
     "data": {
      "text/html": [
       "<div>\n",
       "<style scoped>\n",
       "    .dataframe tbody tr th:only-of-type {\n",
       "        vertical-align: middle;\n",
       "    }\n",
       "\n",
       "    .dataframe tbody tr th {\n",
       "        vertical-align: top;\n",
       "    }\n",
       "\n",
       "    .dataframe thead th {\n",
       "        text-align: right;\n",
       "    }\n",
       "</style>\n",
       "<table border=\"1\" class=\"dataframe\">\n",
       "  <thead>\n",
       "    <tr style=\"text-align: right;\">\n",
       "      <th></th>\n",
       "      <th>sale_id</th>\n",
       "      <th>sales_category</th>\n",
       "    </tr>\n",
       "  </thead>\n",
       "  <tbody>\n",
       "    <tr>\n",
       "      <th>0</th>\n",
       "      <td>1</td>\n",
       "      <td>High</td>\n",
       "    </tr>\n",
       "    <tr>\n",
       "      <th>1</th>\n",
       "      <td>2</td>\n",
       "      <td>High</td>\n",
       "    </tr>\n",
       "    <tr>\n",
       "      <th>2</th>\n",
       "      <td>3</td>\n",
       "      <td>Low</td>\n",
       "    </tr>\n",
       "    <tr>\n",
       "      <th>3</th>\n",
       "      <td>4</td>\n",
       "      <td>Low</td>\n",
       "    </tr>\n",
       "    <tr>\n",
       "      <th>4</th>\n",
       "      <td>5</td>\n",
       "      <td>Low</td>\n",
       "    </tr>\n",
       "    <tr>\n",
       "      <th>5</th>\n",
       "      <td>6</td>\n",
       "      <td>Low</td>\n",
       "    </tr>\n",
       "    <tr>\n",
       "      <th>6</th>\n",
       "      <td>7</td>\n",
       "      <td>Low</td>\n",
       "    </tr>\n",
       "  </tbody>\n",
       "</table>\n",
       "</div>"
      ],
      "text/plain": [
       "   sale_id sales_category\n",
       "0        1           High\n",
       "1        2           High\n",
       "2        3            Low\n",
       "3        4            Low\n",
       "4        5            Low\n",
       "5        6            Low\n",
       "6        7            Low"
      ]
     },
     "execution_count": 94,
     "metadata": {},
     "output_type": "execute_result"
    }
   ],
   "source": [
    "query = \"\"\"SELECT sale_id, \n",
    "       CASE \n",
    "           WHEN total_price > 200 THEN 'High'\n",
    "           WHEN total_price BETWEEN 100 AND 200 THEN 'Medium'\n",
    "           ELSE 'Low'\n",
    "       END AS sales_category\n",
    "FROM Sales\n",
    "\"\"\"\n",
    "\n",
    "run_query(query)"
   ]
  },
  {
   "cell_type": "markdown",
   "id": "b3947d31-9e24-48b4-a045-15fb1b9e189f",
   "metadata": {},
   "source": [
    "#### 15. Identify sales where the quantity sold is greater than the average quantity sold."
   ]
  },
  {
   "cell_type": "code",
   "execution_count": 97,
   "id": "d7e4fc15-b29b-4301-adb3-14d34001307b",
   "metadata": {},
   "outputs": [
    {
     "data": {
      "text/html": [
       "<div>\n",
       "<style scoped>\n",
       "    .dataframe tbody tr th:only-of-type {\n",
       "        vertical-align: middle;\n",
       "    }\n",
       "\n",
       "    .dataframe tbody tr th {\n",
       "        vertical-align: top;\n",
       "    }\n",
       "\n",
       "    .dataframe thead th {\n",
       "        text-align: right;\n",
       "    }\n",
       "</style>\n",
       "<table border=\"1\" class=\"dataframe\">\n",
       "  <thead>\n",
       "    <tr style=\"text-align: right;\">\n",
       "      <th></th>\n",
       "      <th>sale_id</th>\n",
       "      <th>product_id</th>\n",
       "      <th>quantity_sold</th>\n",
       "      <th>sale_date</th>\n",
       "      <th>total_price</th>\n",
       "    </tr>\n",
       "  </thead>\n",
       "  <tbody>\n",
       "    <tr>\n",
       "      <th>0</th>\n",
       "      <td>1</td>\n",
       "      <td>101</td>\n",
       "      <td>5</td>\n",
       "      <td>2024-01-01</td>\n",
       "      <td>2500</td>\n",
       "    </tr>\n",
       "    <tr>\n",
       "      <th>1</th>\n",
       "      <td>4</td>\n",
       "      <td>104</td>\n",
       "      <td>4</td>\n",
       "      <td>2024-01-03</td>\n",
       "      <td>80</td>\n",
       "    </tr>\n",
       "    <tr>\n",
       "      <th>2</th>\n",
       "      <td>5</td>\n",
       "      <td>105</td>\n",
       "      <td>6</td>\n",
       "      <td>2024-01-03</td>\n",
       "      <td>90</td>\n",
       "    </tr>\n",
       "  </tbody>\n",
       "</table>\n",
       "</div>"
      ],
      "text/plain": [
       "   sale_id  product_id  quantity_sold   sale_date  total_price\n",
       "0        1         101              5  2024-01-01         2500\n",
       "1        4         104              4  2024-01-03           80\n",
       "2        5         105              6  2024-01-03           90"
      ]
     },
     "execution_count": 97,
     "metadata": {},
     "output_type": "execute_result"
    }
   ],
   "source": [
    "query = \"\"\"SELECT *\n",
    "FROM Sales\n",
    "WHERE quantity_sold > (SELECT AVG(quantity_sold) FROM Sales)\n",
    "\"\"\"\n",
    "\n",
    "run_query(query)"
   ]
  },
  {
   "cell_type": "markdown",
   "id": "dae14b1c-7b2a-435f-bfc8-91286a704048",
   "metadata": {},
   "source": [
    "#### 16. Retrieve the product details (name, category, unit price) for products that have a quantity sold greater than the average quantity sold across all products."
   ]
  },
  {
   "cell_type": "code",
   "execution_count": 100,
   "id": "464524f4-0a8f-4e1b-8770-23a72b36202d",
   "metadata": {},
   "outputs": [
    {
     "data": {
      "text/html": [
       "<div>\n",
       "<style scoped>\n",
       "    .dataframe tbody tr th:only-of-type {\n",
       "        vertical-align: middle;\n",
       "    }\n",
       "\n",
       "    .dataframe tbody tr th {\n",
       "        vertical-align: top;\n",
       "    }\n",
       "\n",
       "    .dataframe thead th {\n",
       "        text-align: right;\n",
       "    }\n",
       "</style>\n",
       "<table border=\"1\" class=\"dataframe\">\n",
       "  <thead>\n",
       "    <tr style=\"text-align: right;\">\n",
       "      <th></th>\n",
       "      <th>product_name</th>\n",
       "      <th>category</th>\n",
       "      <th>unit_price</th>\n",
       "    </tr>\n",
       "  </thead>\n",
       "  <tbody>\n",
       "    <tr>\n",
       "      <th>0</th>\n",
       "      <td>Laptop</td>\n",
       "      <td>Electronics</td>\n",
       "      <td>500</td>\n",
       "    </tr>\n",
       "    <tr>\n",
       "      <th>1</th>\n",
       "      <td>Keyboard</td>\n",
       "      <td>Electronics</td>\n",
       "      <td>20</td>\n",
       "    </tr>\n",
       "    <tr>\n",
       "      <th>2</th>\n",
       "      <td>Mouse</td>\n",
       "      <td>Electronics</td>\n",
       "      <td>15</td>\n",
       "    </tr>\n",
       "  </tbody>\n",
       "</table>\n",
       "</div>"
      ],
      "text/plain": [
       "  product_name     category  unit_price\n",
       "0       Laptop  Electronics         500\n",
       "1     Keyboard  Electronics          20\n",
       "2        Mouse  Electronics          15"
      ]
     },
     "execution_count": 100,
     "metadata": {},
     "output_type": "execute_result"
    }
   ],
   "source": [
    "query = \"\"\"SELECT product_name, category, unit_price\n",
    "FROM Products\n",
    "WHERE product_id IN (\n",
    "    SELECT product_id\n",
    "    FROM Sales\n",
    "    GROUP BY product_id\n",
    "    HAVING SUM(quantity_sold) > (SELECT AVG(quantity_sold) FROM Sales)\n",
    ")\n",
    "\"\"\"\n",
    "\n",
    "run_query(query)"
   ]
  },
  {
   "cell_type": "markdown",
   "id": "347dc01b-fb9b-4caa-891f-48d38ed06c6c",
   "metadata": {},
   "source": [
    "#### 17. Create a query that lists the product names along with their corresponding sales count."
   ]
  },
  {
   "cell_type": "code",
   "execution_count": 103,
   "id": "9a7e4e12-e16e-4e7b-bb52-5b57b3daba74",
   "metadata": {},
   "outputs": [
    {
     "data": {
      "text/html": [
       "<div>\n",
       "<style scoped>\n",
       "    .dataframe tbody tr th:only-of-type {\n",
       "        vertical-align: middle;\n",
       "    }\n",
       "\n",
       "    .dataframe tbody tr th {\n",
       "        vertical-align: top;\n",
       "    }\n",
       "\n",
       "    .dataframe thead th {\n",
       "        text-align: right;\n",
       "    }\n",
       "</style>\n",
       "<table border=\"1\" class=\"dataframe\">\n",
       "  <thead>\n",
       "    <tr style=\"text-align: right;\">\n",
       "      <th></th>\n",
       "      <th>product_name</th>\n",
       "      <th>sales_count</th>\n",
       "    </tr>\n",
       "  </thead>\n",
       "  <tbody>\n",
       "    <tr>\n",
       "      <th>0</th>\n",
       "      <td>Chair</td>\n",
       "      <td>0</td>\n",
       "    </tr>\n",
       "    <tr>\n",
       "      <th>1</th>\n",
       "      <td>Desk</td>\n",
       "      <td>0</td>\n",
       "    </tr>\n",
       "    <tr>\n",
       "      <th>2</th>\n",
       "      <td>Headphones</td>\n",
       "      <td>1</td>\n",
       "    </tr>\n",
       "    <tr>\n",
       "      <th>3</th>\n",
       "      <td>Keyboard</td>\n",
       "      <td>2</td>\n",
       "    </tr>\n",
       "    <tr>\n",
       "      <th>4</th>\n",
       "      <td>Laptop</td>\n",
       "      <td>1</td>\n",
       "    </tr>\n",
       "    <tr>\n",
       "      <th>5</th>\n",
       "      <td>Mouse</td>\n",
       "      <td>2</td>\n",
       "    </tr>\n",
       "    <tr>\n",
       "      <th>6</th>\n",
       "      <td>Smartphone</td>\n",
       "      <td>1</td>\n",
       "    </tr>\n",
       "  </tbody>\n",
       "</table>\n",
       "</div>"
      ],
      "text/plain": [
       "  product_name  sales_count\n",
       "0        Chair            0\n",
       "1         Desk            0\n",
       "2   Headphones            1\n",
       "3     Keyboard            2\n",
       "4       Laptop            1\n",
       "5        Mouse            2\n",
       "6   Smartphone            1"
      ]
     },
     "execution_count": 103,
     "metadata": {},
     "output_type": "execute_result"
    }
   ],
   "source": [
    "query = \"\"\"SELECT p.product_name, COUNT(s.sale_id) AS sales_count\n",
    "FROM Products AS p\n",
    "LEFT JOIN Sales AS s ON p.product_id = s.product_id\n",
    "GROUP BY p.product_name\n",
    "\"\"\"\n",
    "\n",
    "run_query(query)"
   ]
  },
  {
   "cell_type": "markdown",
   "id": "2c5b5de3-6dd7-472b-b5f6-09f6821a199a",
   "metadata": {},
   "source": [
    "#### 18. Write a query to find all sales where the total price is greater than the average total price of all sales."
   ]
  },
  {
   "cell_type": "code",
   "execution_count": 106,
   "id": "05814c10-ec93-475d-b89d-7252427263cb",
   "metadata": {},
   "outputs": [
    {
     "data": {
      "text/html": [
       "<div>\n",
       "<style scoped>\n",
       "    .dataframe tbody tr th:only-of-type {\n",
       "        vertical-align: middle;\n",
       "    }\n",
       "\n",
       "    .dataframe tbody tr th {\n",
       "        vertical-align: top;\n",
       "    }\n",
       "\n",
       "    .dataframe thead th {\n",
       "        text-align: right;\n",
       "    }\n",
       "</style>\n",
       "<table border=\"1\" class=\"dataframe\">\n",
       "  <thead>\n",
       "    <tr style=\"text-align: right;\">\n",
       "      <th></th>\n",
       "      <th>sale_id</th>\n",
       "      <th>product_id</th>\n",
       "      <th>quantity_sold</th>\n",
       "      <th>sale_date</th>\n",
       "      <th>total_price</th>\n",
       "    </tr>\n",
       "  </thead>\n",
       "  <tbody>\n",
       "    <tr>\n",
       "      <th>0</th>\n",
       "      <td>1</td>\n",
       "      <td>101</td>\n",
       "      <td>5</td>\n",
       "      <td>2024-01-01</td>\n",
       "      <td>2500</td>\n",
       "    </tr>\n",
       "    <tr>\n",
       "      <th>1</th>\n",
       "      <td>2</td>\n",
       "      <td>102</td>\n",
       "      <td>3</td>\n",
       "      <td>2024-01-02</td>\n",
       "      <td>900</td>\n",
       "    </tr>\n",
       "  </tbody>\n",
       "</table>\n",
       "</div>"
      ],
      "text/plain": [
       "   sale_id  product_id  quantity_sold   sale_date  total_price\n",
       "0        1         101              5  2024-01-01         2500\n",
       "1        2         102              3  2024-01-02          900"
      ]
     },
     "execution_count": 106,
     "metadata": {},
     "output_type": "execute_result"
    }
   ],
   "source": [
    "query = \"\"\"SELECT *\n",
    "FROM Sales\n",
    "WHERE total_price > (SELECT AVG(total_price) FROM Sales)\n",
    "\"\"\"\n",
    "\n",
    "run_query(query)"
   ]
  },
  {
   "cell_type": "code",
   "execution_count": null,
   "id": "2ef777c7-e774-4809-8817-0d66467fa53e",
   "metadata": {},
   "outputs": [],
   "source": []
  }
 ],
 "metadata": {
  "kernelspec": {
   "display_name": "Python 3 (ipykernel)",
   "language": "python",
   "name": "python3"
  },
  "language_info": {
   "codemirror_mode": {
    "name": "ipython",
    "version": 3
   },
   "file_extension": ".py",
   "mimetype": "text/x-python",
   "name": "python",
   "nbconvert_exporter": "python",
   "pygments_lexer": "ipython3",
   "version": "3.12.7"
  }
 },
 "nbformat": 4,
 "nbformat_minor": 5
}
